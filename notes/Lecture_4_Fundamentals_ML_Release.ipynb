{
 "cells": [
  {
   "cell_type": "markdown",
   "metadata": {},
   "source": [
    "# Fundamentals of Machine Learning Part 1"
   ]
  },
  {
   "cell_type": "markdown",
   "metadata": {},
   "source": [
    "### NETID: hrz8"
   ]
  },
  {
   "cell_type": "code",
   "execution_count": 7,
   "metadata": {},
   "outputs": [],
   "source": [
    "import numpy as np\n",
    "import pandas as pd\n",
    "import sklearn\n",
    "from sklearn.linear_model import LinearRegression\n",
    "from sklearn.model_selection import train_test_split\n",
    "import matplotlib.pyplot as plt"
   ]
  },
  {
   "cell_type": "code",
   "execution_count": 2,
   "metadata": {},
   "outputs": [],
   "source": [
    "# Import the data. Make sure that lecture4data.csv is in the same folder as this file!\n",
    "original_data = pd.read_csv('lecture4data.csv')"
   ]
  },
  {
   "cell_type": "markdown",
   "metadata": {},
   "source": []
  },
  {
   "cell_type": "markdown",
   "metadata": {},
   "source": [
    "# Problem  1: Python Practice"
   ]
  },
  {
   "cell_type": "code",
   "execution_count": 3,
   "metadata": {},
   "outputs": [],
   "source": [
    "problem_1_data = original_data.copy()"
   ]
  },
  {
   "cell_type": "markdown",
   "metadata": {},
   "source": [
    "### a) Print out the first few rows of `problem_1_data`"
   ]
  },
  {
   "cell_type": "code",
   "execution_count": 11,
   "metadata": {},
   "outputs": [
    {
     "data": {
      "text/html": [
       "<div>\n",
       "<style scoped>\n",
       "    .dataframe tbody tr th:only-of-type {\n",
       "        vertical-align: middle;\n",
       "    }\n",
       "\n",
       "    .dataframe tbody tr th {\n",
       "        vertical-align: top;\n",
       "    }\n",
       "\n",
       "    .dataframe thead th {\n",
       "        text-align: right;\n",
       "    }\n",
       "</style>\n",
       "<table border=\"1\" class=\"dataframe\">\n",
       "  <thead>\n",
       "    <tr style=\"text-align: right;\">\n",
       "      <th></th>\n",
       "      <th>name</th>\n",
       "      <th>city</th>\n",
       "      <th>state</th>\n",
       "      <th>adm_rate</th>\n",
       "      <th>undergrads</th>\n",
       "      <th>cost</th>\n",
       "      <th>compl_4</th>\n",
       "      <th>median_hh_inc</th>\n",
       "      <th>median_earnings</th>\n",
       "    </tr>\n",
       "  </thead>\n",
       "  <tbody>\n",
       "    <tr>\n",
       "      <th>0</th>\n",
       "      <td>Alabama A &amp; M University</td>\n",
       "      <td>Normal</td>\n",
       "      <td>AL</td>\n",
       "      <td>0.6538</td>\n",
       "      <td>4505</td>\n",
       "      <td>20809</td>\n",
       "      <td>0.1104</td>\n",
       "      <td>49720.22</td>\n",
       "      <td>29900</td>\n",
       "    </tr>\n",
       "    <tr>\n",
       "      <th>1</th>\n",
       "      <td>University of Alabama at Birmingham</td>\n",
       "      <td>Birmingham</td>\n",
       "      <td>AL</td>\n",
       "      <td>0.6043</td>\n",
       "      <td>11269</td>\n",
       "      <td>22232</td>\n",
       "      <td>0.3173</td>\n",
       "      <td>55735.22</td>\n",
       "      <td>40200</td>\n",
       "    </tr>\n",
       "    <tr>\n",
       "      <th>2</th>\n",
       "      <td>University of Alabama in Huntsville</td>\n",
       "      <td>Huntsville</td>\n",
       "      <td>AL</td>\n",
       "      <td>0.8120</td>\n",
       "      <td>5829</td>\n",
       "      <td>20999</td>\n",
       "      <td>0.1848</td>\n",
       "      <td>58688.62</td>\n",
       "      <td>45600</td>\n",
       "    </tr>\n",
       "    <tr>\n",
       "      <th>3</th>\n",
       "      <td>Alabama State University</td>\n",
       "      <td>Montgomery</td>\n",
       "      <td>AL</td>\n",
       "      <td>0.4639</td>\n",
       "      <td>4740</td>\n",
       "      <td>18100</td>\n",
       "      <td>0.1216</td>\n",
       "      <td>46065.20</td>\n",
       "      <td>26700</td>\n",
       "    </tr>\n",
       "    <tr>\n",
       "      <th>4</th>\n",
       "      <td>The University of Alabama</td>\n",
       "      <td>Tuscaloosa</td>\n",
       "      <td>AL</td>\n",
       "      <td>0.5359</td>\n",
       "      <td>31005</td>\n",
       "      <td>27205</td>\n",
       "      <td>0.4135</td>\n",
       "      <td>57928.41</td>\n",
       "      <td>42700</td>\n",
       "    </tr>\n",
       "  </tbody>\n",
       "</table>\n",
       "</div>"
      ],
      "text/plain": [
       "                                  name        city state  adm_rate  \\\n",
       "0             Alabama A & M University      Normal    AL    0.6538   \n",
       "1  University of Alabama at Birmingham  Birmingham    AL    0.6043   \n",
       "2  University of Alabama in Huntsville  Huntsville    AL    0.8120   \n",
       "3             Alabama State University  Montgomery    AL    0.4639   \n",
       "4            The University of Alabama  Tuscaloosa    AL    0.5359   \n",
       "\n",
       "   undergrads   cost  compl_4  median_hh_inc  median_earnings  \n",
       "0        4505  20809   0.1104       49720.22            29900  \n",
       "1       11269  22232   0.3173       55735.22            40200  \n",
       "2        5829  20999   0.1848       58688.62            45600  \n",
       "3        4740  18100   0.1216       46065.20            26700  \n",
       "4       31005  27205   0.4135       57928.41            42700  "
      ]
     },
     "execution_count": 11,
     "metadata": {},
     "output_type": "execute_result"
    }
   ],
   "source": [
    "df = pd.DataFrame(problem_1_data)\n",
    "df.head()"
   ]
  },
  {
   "cell_type": "markdown",
   "metadata": {},
   "source": [
    "### b) Add a new column to `problem_1_data` called `education_profit_ratio` that holds each schools' `median_earnings` divided by its `cost`."
   ]
  },
  {
   "cell_type": "code",
   "execution_count": 13,
   "metadata": {},
   "outputs": [
    {
     "data": {
      "text/html": [
       "<div>\n",
       "<style scoped>\n",
       "    .dataframe tbody tr th:only-of-type {\n",
       "        vertical-align: middle;\n",
       "    }\n",
       "\n",
       "    .dataframe tbody tr th {\n",
       "        vertical-align: top;\n",
       "    }\n",
       "\n",
       "    .dataframe thead th {\n",
       "        text-align: right;\n",
       "    }\n",
       "</style>\n",
       "<table border=\"1\" class=\"dataframe\">\n",
       "  <thead>\n",
       "    <tr style=\"text-align: right;\">\n",
       "      <th></th>\n",
       "      <th>name</th>\n",
       "      <th>city</th>\n",
       "      <th>state</th>\n",
       "      <th>adm_rate</th>\n",
       "      <th>undergrads</th>\n",
       "      <th>cost</th>\n",
       "      <th>compl_4</th>\n",
       "      <th>median_hh_inc</th>\n",
       "      <th>median_earnings</th>\n",
       "      <th>education_profit_ratio</th>\n",
       "    </tr>\n",
       "  </thead>\n",
       "  <tbody>\n",
       "    <tr>\n",
       "      <th>0</th>\n",
       "      <td>Alabama A &amp; M University</td>\n",
       "      <td>Normal</td>\n",
       "      <td>AL</td>\n",
       "      <td>0.6538</td>\n",
       "      <td>4505</td>\n",
       "      <td>20809</td>\n",
       "      <td>0.1104</td>\n",
       "      <td>49720.22</td>\n",
       "      <td>29900</td>\n",
       "      <td>1.436878</td>\n",
       "    </tr>\n",
       "    <tr>\n",
       "      <th>1</th>\n",
       "      <td>University of Alabama at Birmingham</td>\n",
       "      <td>Birmingham</td>\n",
       "      <td>AL</td>\n",
       "      <td>0.6043</td>\n",
       "      <td>11269</td>\n",
       "      <td>22232</td>\n",
       "      <td>0.3173</td>\n",
       "      <td>55735.22</td>\n",
       "      <td>40200</td>\n",
       "      <td>1.808204</td>\n",
       "    </tr>\n",
       "    <tr>\n",
       "      <th>2</th>\n",
       "      <td>University of Alabama in Huntsville</td>\n",
       "      <td>Huntsville</td>\n",
       "      <td>AL</td>\n",
       "      <td>0.8120</td>\n",
       "      <td>5829</td>\n",
       "      <td>20999</td>\n",
       "      <td>0.1848</td>\n",
       "      <td>58688.62</td>\n",
       "      <td>45600</td>\n",
       "      <td>2.171532</td>\n",
       "    </tr>\n",
       "    <tr>\n",
       "      <th>3</th>\n",
       "      <td>Alabama State University</td>\n",
       "      <td>Montgomery</td>\n",
       "      <td>AL</td>\n",
       "      <td>0.4639</td>\n",
       "      <td>4740</td>\n",
       "      <td>18100</td>\n",
       "      <td>0.1216</td>\n",
       "      <td>46065.20</td>\n",
       "      <td>26700</td>\n",
       "      <td>1.475138</td>\n",
       "    </tr>\n",
       "    <tr>\n",
       "      <th>4</th>\n",
       "      <td>The University of Alabama</td>\n",
       "      <td>Tuscaloosa</td>\n",
       "      <td>AL</td>\n",
       "      <td>0.5359</td>\n",
       "      <td>31005</td>\n",
       "      <td>27205</td>\n",
       "      <td>0.4135</td>\n",
       "      <td>57928.41</td>\n",
       "      <td>42700</td>\n",
       "      <td>1.569564</td>\n",
       "    </tr>\n",
       "    <tr>\n",
       "      <th>...</th>\n",
       "      <td>...</td>\n",
       "      <td>...</td>\n",
       "      <td>...</td>\n",
       "      <td>...</td>\n",
       "      <td>...</td>\n",
       "      <td>...</td>\n",
       "      <td>...</td>\n",
       "      <td>...</td>\n",
       "      <td>...</td>\n",
       "      <td>...</td>\n",
       "    </tr>\n",
       "    <tr>\n",
       "      <th>1579</th>\n",
       "      <td>DigiPen Institute of Technology</td>\n",
       "      <td>Redmond</td>\n",
       "      <td>WA</td>\n",
       "      <td>0.4657</td>\n",
       "      <td>989</td>\n",
       "      <td>41573</td>\n",
       "      <td>0.3139</td>\n",
       "      <td>70283.94</td>\n",
       "      <td>81300</td>\n",
       "      <td>1.955596</td>\n",
       "    </tr>\n",
       "    <tr>\n",
       "      <th>1580</th>\n",
       "      <td>National University College-Rio Grande</td>\n",
       "      <td>Rio Grande</td>\n",
       "      <td>PR</td>\n",
       "      <td>0.7866</td>\n",
       "      <td>1493</td>\n",
       "      <td>13739</td>\n",
       "      <td>0.0102</td>\n",
       "      <td>20548.96</td>\n",
       "      <td>17100</td>\n",
       "      <td>1.244632</td>\n",
       "    </tr>\n",
       "    <tr>\n",
       "      <th>1581</th>\n",
       "      <td>Neumont University</td>\n",
       "      <td>Salt Lake City</td>\n",
       "      <td>UT</td>\n",
       "      <td>0.8301</td>\n",
       "      <td>472</td>\n",
       "      <td>31821</td>\n",
       "      <td>0.5263</td>\n",
       "      <td>65341.88</td>\n",
       "      <td>47900</td>\n",
       "      <td>1.505295</td>\n",
       "    </tr>\n",
       "    <tr>\n",
       "      <th>1582</th>\n",
       "      <td>Johnson &amp; Wales University-Charlotte</td>\n",
       "      <td>Charlotte</td>\n",
       "      <td>NC</td>\n",
       "      <td>0.7245</td>\n",
       "      <td>2218</td>\n",
       "      <td>42124</td>\n",
       "      <td>0.3932</td>\n",
       "      <td>68856.12</td>\n",
       "      <td>36600</td>\n",
       "      <td>0.868863</td>\n",
       "    </tr>\n",
       "    <tr>\n",
       "      <th>1583</th>\n",
       "      <td>ITT Technical Institute-Kennesaw</td>\n",
       "      <td>Kennesaw</td>\n",
       "      <td>GA</td>\n",
       "      <td>0.8824</td>\n",
       "      <td>358</td>\n",
       "      <td>27339</td>\n",
       "      <td>0.0000</td>\n",
       "      <td>56914.50</td>\n",
       "      <td>38800</td>\n",
       "      <td>1.419218</td>\n",
       "    </tr>\n",
       "  </tbody>\n",
       "</table>\n",
       "<p>1584 rows × 10 columns</p>\n",
       "</div>"
      ],
      "text/plain": [
       "                                        name            city state  adm_rate  \\\n",
       "0                   Alabama A & M University          Normal    AL    0.6538   \n",
       "1        University of Alabama at Birmingham      Birmingham    AL    0.6043   \n",
       "2        University of Alabama in Huntsville      Huntsville    AL    0.8120   \n",
       "3                   Alabama State University      Montgomery    AL    0.4639   \n",
       "4                  The University of Alabama      Tuscaloosa    AL    0.5359   \n",
       "...                                      ...             ...   ...       ...   \n",
       "1579         DigiPen Institute of Technology         Redmond    WA    0.4657   \n",
       "1580  National University College-Rio Grande      Rio Grande    PR    0.7866   \n",
       "1581                      Neumont University  Salt Lake City    UT    0.8301   \n",
       "1582    Johnson & Wales University-Charlotte       Charlotte    NC    0.7245   \n",
       "1583        ITT Technical Institute-Kennesaw        Kennesaw    GA    0.8824   \n",
       "\n",
       "      undergrads   cost  compl_4  median_hh_inc  median_earnings  \\\n",
       "0           4505  20809   0.1104       49720.22            29900   \n",
       "1          11269  22232   0.3173       55735.22            40200   \n",
       "2           5829  20999   0.1848       58688.62            45600   \n",
       "3           4740  18100   0.1216       46065.20            26700   \n",
       "4          31005  27205   0.4135       57928.41            42700   \n",
       "...          ...    ...      ...            ...              ...   \n",
       "1579         989  41573   0.3139       70283.94            81300   \n",
       "1580        1493  13739   0.0102       20548.96            17100   \n",
       "1581         472  31821   0.5263       65341.88            47900   \n",
       "1582        2218  42124   0.3932       68856.12            36600   \n",
       "1583         358  27339   0.0000       56914.50            38800   \n",
       "\n",
       "      education_profit_ratio  \n",
       "0                   1.436878  \n",
       "1                   1.808204  \n",
       "2                   2.171532  \n",
       "3                   1.475138  \n",
       "4                   1.569564  \n",
       "...                      ...  \n",
       "1579                1.955596  \n",
       "1580                1.244632  \n",
       "1581                1.505295  \n",
       "1582                0.868863  \n",
       "1583                1.419218  \n",
       "\n",
       "[1584 rows x 10 columns]"
      ]
     },
     "execution_count": 13,
     "metadata": {},
     "output_type": "execute_result"
    }
   ],
   "source": [
    "ratio = []\n",
    "for x in range(0, len(df)): \n",
    "    ratio.append(df['median_earnings'][x]/df['cost'][x])\n",
    "df['education_profit_ratio'] = ratio\n",
    "df"
   ]
  },
  {
   "cell_type": "markdown",
   "metadata": {},
   "source": [
    "### c) (OPTIONAL) Briefly describe what `cost_single_brackets`, `cost_double_brackets`, and `multiple_columns` look like (what their shapes/dimensions are).\n",
    "\n",
    "<b>Hint</b>: You can use Python's `type` function to tell the type of an objective. For example, `print(type(dylanIsCool))` will print out the type of `dylanIsCool`. You can also try printing out the object to see what it looks like."
   ]
  },
  {
   "cell_type": "code",
   "execution_count": 14,
   "metadata": {},
   "outputs": [],
   "source": [
    "multiple_columns = problem_1_data[['cost', 'median_earnings']]\n",
    "cost_single_brackets = problem_1_data['cost']\n",
    "cost_double_brackets = problem_1_data[['cost']]"
   ]
  },
  {
   "cell_type": "markdown",
   "metadata": {},
   "source": []
  },
  {
   "cell_type": "markdown",
   "metadata": {},
   "source": [
    "# Basics of Machine Learning\n",
    "\n",
    "So far we have discussed the importance of data visualization and data preprocessing. These steps are important in preparing the datasets. Now, we will start our machine learning section of the course. We have already discussed how a machine learning model is like a function, and we will now explain a bit more using __linear regression__ models. Before we begin, we should import some useful python."
   ]
  },
  {
   "cell_type": "markdown",
   "metadata": {},
   "source": [
    "This dataset contains information on different colleges across the US. The full dataset was assembled from https://collegescorecard.ed.gov/data/ and this version was trimmed down to a few important columns and cleaned to removed schools with missing data.\n",
    "\n",
    "We will look at adm_rate (admission rate), undergrads (number of undergrads), cost (cost to attand the college for a year), compl_4 (percent of students graduated in 4 years), median_hh_inc (median household income of students), and median_earnings (median earnings 10 years after starting college).\n",
    "\n",
    "We want to predict median_earnings using other columns in the data set. In other words, we have some inputs from the dataframe (such as cost), and we want to output another column in the dataframe (median_earnings)."
   ]
  },
  {
   "cell_type": "markdown",
   "metadata": {},
   "source": [
    "# Section 1: Intro"
   ]
  },
  {
   "cell_type": "markdown",
   "metadata": {},
   "source": [
    "To keep things clean throughout this Jupyter Notebook, in each section, we first make a copy of the original data. You won't have to do this in your own projects."
   ]
  },
  {
   "cell_type": "code",
   "execution_count": 15,
   "metadata": {},
   "outputs": [
    {
     "data": {
      "text/html": [
       "<div>\n",
       "<style scoped>\n",
       "    .dataframe tbody tr th:only-of-type {\n",
       "        vertical-align: middle;\n",
       "    }\n",
       "\n",
       "    .dataframe tbody tr th {\n",
       "        vertical-align: top;\n",
       "    }\n",
       "\n",
       "    .dataframe thead th {\n",
       "        text-align: right;\n",
       "    }\n",
       "</style>\n",
       "<table border=\"1\" class=\"dataframe\">\n",
       "  <thead>\n",
       "    <tr style=\"text-align: right;\">\n",
       "      <th></th>\n",
       "      <th>name</th>\n",
       "      <th>city</th>\n",
       "      <th>state</th>\n",
       "      <th>adm_rate</th>\n",
       "      <th>undergrads</th>\n",
       "      <th>cost</th>\n",
       "      <th>compl_4</th>\n",
       "      <th>median_hh_inc</th>\n",
       "      <th>median_earnings</th>\n",
       "    </tr>\n",
       "  </thead>\n",
       "  <tbody>\n",
       "    <tr>\n",
       "      <th>0</th>\n",
       "      <td>Alabama A &amp; M University</td>\n",
       "      <td>Normal</td>\n",
       "      <td>AL</td>\n",
       "      <td>0.6538</td>\n",
       "      <td>4505</td>\n",
       "      <td>20809</td>\n",
       "      <td>0.1104</td>\n",
       "      <td>49720.22</td>\n",
       "      <td>29900</td>\n",
       "    </tr>\n",
       "    <tr>\n",
       "      <th>1</th>\n",
       "      <td>University of Alabama at Birmingham</td>\n",
       "      <td>Birmingham</td>\n",
       "      <td>AL</td>\n",
       "      <td>0.6043</td>\n",
       "      <td>11269</td>\n",
       "      <td>22232</td>\n",
       "      <td>0.3173</td>\n",
       "      <td>55735.22</td>\n",
       "      <td>40200</td>\n",
       "    </tr>\n",
       "    <tr>\n",
       "      <th>2</th>\n",
       "      <td>University of Alabama in Huntsville</td>\n",
       "      <td>Huntsville</td>\n",
       "      <td>AL</td>\n",
       "      <td>0.8120</td>\n",
       "      <td>5829</td>\n",
       "      <td>20999</td>\n",
       "      <td>0.1848</td>\n",
       "      <td>58688.62</td>\n",
       "      <td>45600</td>\n",
       "    </tr>\n",
       "    <tr>\n",
       "      <th>3</th>\n",
       "      <td>Alabama State University</td>\n",
       "      <td>Montgomery</td>\n",
       "      <td>AL</td>\n",
       "      <td>0.4639</td>\n",
       "      <td>4740</td>\n",
       "      <td>18100</td>\n",
       "      <td>0.1216</td>\n",
       "      <td>46065.20</td>\n",
       "      <td>26700</td>\n",
       "    </tr>\n",
       "    <tr>\n",
       "      <th>4</th>\n",
       "      <td>The University of Alabama</td>\n",
       "      <td>Tuscaloosa</td>\n",
       "      <td>AL</td>\n",
       "      <td>0.5359</td>\n",
       "      <td>31005</td>\n",
       "      <td>27205</td>\n",
       "      <td>0.4135</td>\n",
       "      <td>57928.41</td>\n",
       "      <td>42700</td>\n",
       "    </tr>\n",
       "  </tbody>\n",
       "</table>\n",
       "</div>"
      ],
      "text/plain": [
       "                                  name        city state  adm_rate  \\\n",
       "0             Alabama A & M University      Normal    AL    0.6538   \n",
       "1  University of Alabama at Birmingham  Birmingham    AL    0.6043   \n",
       "2  University of Alabama in Huntsville  Huntsville    AL    0.8120   \n",
       "3             Alabama State University  Montgomery    AL    0.4639   \n",
       "4            The University of Alabama  Tuscaloosa    AL    0.5359   \n",
       "\n",
       "   undergrads   cost  compl_4  median_hh_inc  median_earnings  \n",
       "0        4505  20809   0.1104       49720.22            29900  \n",
       "1       11269  22232   0.3173       55735.22            40200  \n",
       "2        5829  20999   0.1848       58688.62            45600  \n",
       "3        4740  18100   0.1216       46065.20            26700  \n",
       "4       31005  27205   0.4135       57928.41            42700  "
      ]
     },
     "execution_count": 15,
     "metadata": {},
     "output_type": "execute_result"
    }
   ],
   "source": [
    "section_1_data = original_data.copy()\n",
    "section_1_data.head()"
   ]
  },
  {
   "cell_type": "markdown",
   "metadata": {},
   "source": [
    "Now, let's start machine learning! We'll choose a set of inputs, and then use machine learning to predict median_earnings using that set of inputs"
   ]
  },
  {
   "cell_type": "code",
   "execution_count": 16,
   "metadata": {},
   "outputs": [],
   "source": [
    "inputs = section_1_data[['cost']]\n",
    "outputs = section_1_data['median_earnings']"
   ]
  },
  {
   "cell_type": "code",
   "execution_count": 17,
   "metadata": {},
   "outputs": [
    {
     "name": "stdout",
     "output_type": "stream",
     "text": [
      "<class 'pandas.core.frame.DataFrame'>\n"
     ]
    },
    {
     "data": {
      "text/html": [
       "<div>\n",
       "<style scoped>\n",
       "    .dataframe tbody tr th:only-of-type {\n",
       "        vertical-align: middle;\n",
       "    }\n",
       "\n",
       "    .dataframe tbody tr th {\n",
       "        vertical-align: top;\n",
       "    }\n",
       "\n",
       "    .dataframe thead th {\n",
       "        text-align: right;\n",
       "    }\n",
       "</style>\n",
       "<table border=\"1\" class=\"dataframe\">\n",
       "  <thead>\n",
       "    <tr style=\"text-align: right;\">\n",
       "      <th></th>\n",
       "      <th>cost</th>\n",
       "    </tr>\n",
       "  </thead>\n",
       "  <tbody>\n",
       "    <tr>\n",
       "      <th>0</th>\n",
       "      <td>20809</td>\n",
       "    </tr>\n",
       "    <tr>\n",
       "      <th>1</th>\n",
       "      <td>22232</td>\n",
       "    </tr>\n",
       "    <tr>\n",
       "      <th>2</th>\n",
       "      <td>20999</td>\n",
       "    </tr>\n",
       "    <tr>\n",
       "      <th>3</th>\n",
       "      <td>18100</td>\n",
       "    </tr>\n",
       "    <tr>\n",
       "      <th>4</th>\n",
       "      <td>27205</td>\n",
       "    </tr>\n",
       "  </tbody>\n",
       "</table>\n",
       "</div>"
      ],
      "text/plain": [
       "    cost\n",
       "0  20809\n",
       "1  22232\n",
       "2  20999\n",
       "3  18100\n",
       "4  27205"
      ]
     },
     "execution_count": 17,
     "metadata": {},
     "output_type": "execute_result"
    }
   ],
   "source": [
    "print(type(inputs))\n",
    "inputs.head(5)"
   ]
  },
  {
   "cell_type": "code",
   "execution_count": 19,
   "metadata": {},
   "outputs": [
    {
     "name": "stdout",
     "output_type": "stream",
     "text": [
      "<class 'pandas.core.series.Series'>\n"
     ]
    },
    {
     "data": {
      "text/plain": [
       "0    29900\n",
       "1    40200\n",
       "2    45600\n",
       "3    26700\n",
       "4    42700\n",
       "Name: median_earnings, dtype: int64"
      ]
     },
     "execution_count": 19,
     "metadata": {},
     "output_type": "execute_result"
    }
   ],
   "source": [
    "print(type(outputs))\n",
    "outputs[:5]"
   ]
  },
  {
   "cell_type": "code",
   "execution_count": 20,
   "metadata": {},
   "outputs": [],
   "source": [
    "ML_object_that_predicts = LinearRegression()"
   ]
  },
  {
   "cell_type": "markdown",
   "metadata": {},
   "source": [
    "We called a function in sklearn called `LinearRegression` and stored the result in `ML_object_that_predicts`. `ML_object_that_predicts` is an object with several useful functions. You can access these functions through `ML_object_that_predicts.<insert function name here>`. As its name implies, we'll use these functions to make predictions.\n",
    "\n",
    "To do this, we're use the `fit` function and `predict` functions. We'll go into what fitting is later. To predict, give `ML_object_that_predicts` a set of inputs, and it'll spit out a set of predictions based on those inputs."
   ]
  },
  {
   "cell_type": "code",
   "execution_count": 21,
   "metadata": {},
   "outputs": [
    {
     "data": {
      "text/html": [
       "<div>\n",
       "<style scoped>\n",
       "    .dataframe tbody tr th:only-of-type {\n",
       "        vertical-align: middle;\n",
       "    }\n",
       "\n",
       "    .dataframe tbody tr th {\n",
       "        vertical-align: top;\n",
       "    }\n",
       "\n",
       "    .dataframe thead th {\n",
       "        text-align: right;\n",
       "    }\n",
       "</style>\n",
       "<table border=\"1\" class=\"dataframe\">\n",
       "  <thead>\n",
       "    <tr style=\"text-align: right;\">\n",
       "      <th></th>\n",
       "      <th>REAL median_income</th>\n",
       "      <th>PREDICTED median_income</th>\n",
       "    </tr>\n",
       "  </thead>\n",
       "  <tbody>\n",
       "    <tr>\n",
       "      <th>0</th>\n",
       "      <td>36200</td>\n",
       "      <td>35659.150942</td>\n",
       "    </tr>\n",
       "    <tr>\n",
       "      <th>1</th>\n",
       "      <td>42700</td>\n",
       "      <td>44239.451395</td>\n",
       "    </tr>\n",
       "    <tr>\n",
       "      <th>2</th>\n",
       "      <td>42500</td>\n",
       "      <td>37177.409277</td>\n",
       "    </tr>\n",
       "    <tr>\n",
       "      <th>3</th>\n",
       "      <td>42800</td>\n",
       "      <td>42462.534625</td>\n",
       "    </tr>\n",
       "    <tr>\n",
       "      <th>4</th>\n",
       "      <td>35200</td>\n",
       "      <td>45324.623556</td>\n",
       "    </tr>\n",
       "    <tr>\n",
       "      <th>5</th>\n",
       "      <td>45800</td>\n",
       "      <td>41478.088340</td>\n",
       "    </tr>\n",
       "    <tr>\n",
       "      <th>6</th>\n",
       "      <td>49200</td>\n",
       "      <td>48904.428228</td>\n",
       "    </tr>\n",
       "    <tr>\n",
       "      <th>7</th>\n",
       "      <td>31100</td>\n",
       "      <td>44439.499303</td>\n",
       "    </tr>\n",
       "    <tr>\n",
       "      <th>8</th>\n",
       "      <td>43900</td>\n",
       "      <td>36473.381025</td>\n",
       "    </tr>\n",
       "    <tr>\n",
       "      <th>9</th>\n",
       "      <td>21400</td>\n",
       "      <td>42818.760286</td>\n",
       "    </tr>\n",
       "  </tbody>\n",
       "</table>\n",
       "</div>"
      ],
      "text/plain": [
       "   REAL median_income  PREDICTED median_income\n",
       "0               36200             35659.150942\n",
       "1               42700             44239.451395\n",
       "2               42500             37177.409277\n",
       "3               42800             42462.534625\n",
       "4               35200             45324.623556\n",
       "5               45800             41478.088340\n",
       "6               49200             48904.428228\n",
       "7               31100             44439.499303\n",
       "8               43900             36473.381025\n",
       "9               21400             42818.760286"
      ]
     },
     "execution_count": 21,
     "metadata": {},
     "output_type": "execute_result"
    }
   ],
   "source": [
    "known_input, future_input, known_output, future_output = train_test_split(inputs, outputs, test_size=0.2, random_state=42)\n",
    "\n",
    "ML_object_that_predicts.fit(known_input, known_output) # tell it known stuff\n",
    "\n",
    "predictions = ML_object_that_predicts.predict(future_input) # given future input, predict future output!\n",
    "\n",
    "# compare actual median_earnings and the predicted median_earnings\n",
    "pd.DataFrame({\"REAL median_income\":future_output, \"PREDICTED median_income\":predictions}).reset_index(drop=True).head(10)"
   ]
  },
  {
   "cell_type": "markdown",
   "metadata": {},
   "source": [
    "Now we'll call the `score` function of `ML_object_that_predicts`. This returns a \"score\", which is a measure of how accurate the predictions are. The best score is 1, and negative scores are really bad."
   ]
  },
  {
   "cell_type": "code",
   "execution_count": 22,
   "metadata": {},
   "outputs": [
    {
     "name": "stdout",
     "output_type": "stream",
     "text": [
      "Score: 0.17036266107284004\n"
     ]
    }
   ],
   "source": [
    "print(\"Score:\", ML_object_that_predicts.score(future_input, future_output))"
   ]
  },
  {
   "cell_type": "markdown",
   "metadata": {},
   "source": [
    "Let's quickly visualize what we just did. The blue points are the true values, and the black points (which are close together, so they look like a line) are our predictions. Our predictions aren't super accurate, but they're somewhat close for most points."
   ]
  },
  {
   "cell_type": "code",
   "execution_count": 23,
   "metadata": {},
   "outputs": [
    {
     "data": {
      "image/png": "[encoded data removed]",
      "text/plain": [
       "<Figure size 432x288 with 1 Axes>"
      ]
     },
     "metadata": {
      "needs_background": "light"
     },
     "output_type": "display_data"
    }
   ],
   "source": [
    "plt.scatter(future_input, future_output)\n",
    "plt.plot(future_input, predictions, 'k', linewidth=4)\n",
    "plt.legend([\"Predictions\",\"Actual Values\"])\n",
    "plt.title('Cost of Attendance vs Median Earnings')\n",
    "plt.xlabel('Cost of Attendance')\n",
    "plt.ylabel('Median Earnings')\n",
    "plt.show()"
   ]
  },
  {
   "cell_type": "markdown",
   "metadata": {},
   "source": [
    "### Summary:\n",
    "\n",
    "sklearn has an object called `ML_object_that_predicts`. We \"fit\" it on some inputs and outputs. Then, we give `ML_object_that_predicts` some more inputs, and it predicts outputs.\n",
    "\n",
    "### What we don't know:\n",
    "\n",
    "What's \"fitting\"?\n",
    "\n",
    "Why do we split the dataset up?\n",
    "\n",
    "How does the model make predictions?\n",
    "\n",
    "How do we increase the model's score (how do we make our model better)?"
   ]
  },
  {
   "cell_type": "markdown",
   "metadata": {},
   "source": [
    "# Section 2: Fitting / Training"
   ]
  },
  {
   "cell_type": "code",
   "execution_count": 24,
   "metadata": {},
   "outputs": [],
   "source": [
    "section_2_data = original_data.copy()"
   ]
  },
  {
   "cell_type": "markdown",
   "metadata": {},
   "source": [
    "The inputs are called \"features\", and the output is called the \"target\".\n",
    "\n",
    "`ML_object_that_predicts` is a \"model\""
   ]
  },
  {
   "cell_type": "code",
   "execution_count": 25,
   "metadata": {},
   "outputs": [],
   "source": [
    "features = section_2_data[['cost']]\n",
    "target = section_2_data['median_earnings']\n",
    "model = LinearRegression()"
   ]
  },
  {
   "cell_type": "markdown",
   "metadata": {},
   "source": [
    "In reality, we will train a model on known data, and that model is our product -- we're done with it, and we ship it out to be used. The user will give it new data, and the model will predict the corresponding outputs.\n",
    "We emulate that by splitting our data into \"known\" data and \"new\" data. There're a lot of synonyms for known data and new data, and we'll introduce a couple today."
   ]
  },
  {
   "cell_type": "code",
   "execution_count": 26,
   "metadata": {},
   "outputs": [
    {
     "name": "stdout",
     "output_type": "stream",
     "text": [
      "Score: 0.17036266107284004\n"
     ]
    }
   ],
   "source": [
    "from sklearn.model_selection import train_test_split\n",
    "known_data, new_data, known_output, goal_output = train_test_split(features, target, test_size=0.2, random_state=42)\n",
    "\n",
    "# Here, we call the values we are trying to predict the \"goal_output\".\n",
    "# Our goal is to make a model that, when given known_output, can try to predict goal_output.\n",
    "\n",
    "model.fit(known_data, known_output) # train/fit on known inputs\n",
    "predictions = model.predict(new_data) # predict on new data\n",
    "\n",
    "print(\"Score:\", model.score(new_data, goal_output))"
   ]
  },
  {
   "cell_type": "markdown",
   "metadata": {},
   "source": [
    "### Summary\n",
    "`LinearRegression()` returns a \"model\", which is an object that we first train, then use to predict values. To train, we call `model.fit` with known features and their corresponding outputs. To predict, we call `model.predict` on some new set of data, which it wasn't trained on\n",
    "\n",
    "### What we still don't know\n",
    "\n",
    "How does the model make predictions?\n",
    "\n",
    "How do we increase the model's score (how do we make our model better)?"
   ]
  },
  {
   "cell_type": "markdown",
   "metadata": {},
   "source": [
    "# Section 3: Models"
   ]
  },
  {
   "cell_type": "code",
   "execution_count": 27,
   "metadata": {},
   "outputs": [],
   "source": [
    "section_3_data = original_data.copy()"
   ]
  },
  {
   "cell_type": "code",
   "execution_count": 28,
   "metadata": {},
   "outputs": [
    {
     "data": {
      "text/plain": [
       "LinearRegression(copy_X=True, fit_intercept=True, n_jobs=None, normalize=False)"
      ]
     },
     "execution_count": 28,
     "metadata": {},
     "output_type": "execute_result"
    }
   ],
   "source": [
    "features = section_3_data[['cost','adm_rate']]\n",
    "target = section_3_data['median_earnings']\n",
    "x_train, x_test, y_train, y_test = train_test_split(features, target, test_size=0.2, random_state=42)\n",
    "model = LinearRegression()\n",
    "model.fit(x_train, y_train)"
   ]
  },
  {
   "cell_type": "markdown",
   "metadata": {},
   "source": [
    "Running the following cell will pull up a description of `model`."
   ]
  },
  {
   "cell_type": "code",
   "execution_count": 36,
   "metadata": {},
   "outputs": [],
   "source": [
    "# if the popup annoys you, then feel free to comment out the following line\n",
    "#model?"
   ]
  },
  {
   "cell_type": "code",
   "execution_count": 37,
   "metadata": {},
   "outputs": [
    {
     "data": {
      "text/plain": [
       "array([ 3.14511519e-01, -8.76543392e+03])"
      ]
     },
     "execution_count": 37,
     "metadata": {},
     "output_type": "execute_result"
    }
   ],
   "source": [
    "model.coef_"
   ]
  },
  {
   "cell_type": "code",
   "execution_count": 38,
   "metadata": {},
   "outputs": [
    {
     "data": {
      "text/plain": [
       "37049.97200951681"
      ]
     },
     "execution_count": 38,
     "metadata": {},
     "output_type": "execute_result"
    }
   ],
   "source": [
    "model.intercept_"
   ]
  },
  {
   "cell_type": "markdown",
   "metadata": {},
   "source": [
    "`model` is a linear regression model of the form $y = B_1*x_1 + B_2*x_2 + k$, where:\n",
    "\n",
    "$y = $ median_earnings, our target\n",
    "\n",
    "$x_1 = $ cost\n",
    "\n",
    "$B_1 = 3.14511519e-01$, the coefficient on cost\n",
    "\n",
    "$x_2 = $ admission rate\n",
    "\n",
    "$B_2 = -8.76543392e+03$, the coefficient on admission rate\n",
    "\n",
    "$k = 37049.972$, the intercept. \n",
    "\n",
    "We won't talk too much about the intercept in this class, but if you're interested in learning more, feel free to ask us after class.\n",
    "\n",
    "Say you have information about a school's cost and admission rate. Then, `model` can use the school's cost and admission rate to predict the school's median earnings. How does it do that? It calculates $predicted\\_median\\_earnings = B_1*cost + B_2 * x_2$\n",
    "\n",
    "Let's try this out on an example."
   ]
  },
  {
   "cell_type": "code",
   "execution_count": 39,
   "metadata": {},
   "outputs": [
    {
     "data": {
      "text/html": [
       "<div>\n",
       "<style scoped>\n",
       "    .dataframe tbody tr th:only-of-type {\n",
       "        vertical-align: middle;\n",
       "    }\n",
       "\n",
       "    .dataframe tbody tr th {\n",
       "        vertical-align: top;\n",
       "    }\n",
       "\n",
       "    .dataframe thead th {\n",
       "        text-align: right;\n",
       "    }\n",
       "</style>\n",
       "<table border=\"1\" class=\"dataframe\">\n",
       "  <thead>\n",
       "    <tr style=\"text-align: right;\">\n",
       "      <th></th>\n",
       "      <th>name</th>\n",
       "      <th>city</th>\n",
       "      <th>state</th>\n",
       "      <th>adm_rate</th>\n",
       "      <th>undergrads</th>\n",
       "      <th>cost</th>\n",
       "      <th>compl_4</th>\n",
       "      <th>median_hh_inc</th>\n",
       "      <th>median_earnings</th>\n",
       "    </tr>\n",
       "  </thead>\n",
       "  <tbody>\n",
       "    <tr>\n",
       "      <th>1</th>\n",
       "      <td>University of Alabama at Birmingham</td>\n",
       "      <td>Birmingham</td>\n",
       "      <td>AL</td>\n",
       "      <td>0.6043</td>\n",
       "      <td>11269</td>\n",
       "      <td>22232</td>\n",
       "      <td>0.3173</td>\n",
       "      <td>55735.22</td>\n",
       "      <td>40200</td>\n",
       "    </tr>\n",
       "  </tbody>\n",
       "</table>\n",
       "</div>"
      ],
      "text/plain": [
       "                                  name        city state  adm_rate  \\\n",
       "1  University of Alabama at Birmingham  Birmingham    AL    0.6043   \n",
       "\n",
       "   undergrads   cost  compl_4  median_hh_inc  median_earnings  \n",
       "1       11269  22232   0.3173       55735.22            40200  "
      ]
     },
     "execution_count": 39,
     "metadata": {},
     "output_type": "execute_result"
    }
   ],
   "source": [
    "section_3_data.loc[1:1]"
   ]
  },
  {
   "cell_type": "code",
   "execution_count": 40,
   "metadata": {},
   "outputs": [],
   "source": [
    "example_cost = 22232\n",
    "example_admission_rate = 0.6043"
   ]
  },
  {
   "cell_type": "code",
   "execution_count": 41,
   "metadata": {},
   "outputs": [
    {
     "name": "stdout",
     "output_type": "stream",
     "text": [
      "38745.240382799544\n"
     ]
    }
   ],
   "source": [
    "B1 = model.coef_[0]\n",
    "B2 = model.coef_[1]\n",
    "k = model.intercept_\n",
    "manually_predicted_median_earnings = B1 * example_cost + B2 * example_admission_rate + k\n",
    "print(manually_predicted_median_earnings)"
   ]
  },
  {
   "cell_type": "code",
   "execution_count": 42,
   "metadata": {},
   "outputs": [
    {
     "data": {
      "text/plain": [
       "38745.240382799544"
      ]
     },
     "execution_count": 42,
     "metadata": {},
     "output_type": "execute_result"
    }
   ],
   "source": [
    "model.predict([[example_cost,example_admission_rate]])[0]"
   ]
  },
  {
   "cell_type": "markdown",
   "metadata": {},
   "source": [
    "The two results were the same. From this, we can conclude that `model.predict` is really just outputting $B_1*x_1 + B_2*x_2 + k$.\n",
    "\n",
    "(When we look at other algorithms in later lectures, the equation will be different. However, the general idea is the same: `model.fit` created an equation, and `model.predict` uses that equation)"
   ]
  },
  {
   "cell_type": "markdown",
   "metadata": {},
   "source": [
    "### Summary\n",
    "Our `model` is an object. When we train it (by calling `model.fit`), we're setting its parameters (for example, $B_1$, $B_2$, and k). When we predict (by calling `model.predict(new_data)`), `model` is applying a function to each row of `new_data` in order to get a prediction.\n",
    "\n",
    "\n",
    "### What we still don't know\n",
    "\n",
    "How do we increase the model's score (how do we make our model better)?"
   ]
  },
  {
   "cell_type": "markdown",
   "metadata": {},
   "source": [
    "## Problem 2\n",
    "\n",
    "Use 'cost' and 'compl_4' to predict 'median_earnings'.\n",
    "\n",
    "Use a train test split of 25% as a test set (not 20%, which all the previous examples used).\n",
    "\n",
    "Print out the median_earnings predicted for the test set. Also print out the model's score."
   ]
  },
  {
   "cell_type": "code",
   "execution_count": 43,
   "metadata": {},
   "outputs": [],
   "source": [
    "problem_2_data = original_data.copy()"
   ]
  },
  {
   "cell_type": "code",
   "execution_count": 45,
   "metadata": {},
   "outputs": [
    {
     "name": "stdout",
     "output_type": "stream",
     "text": [
      "[34997.04553837 40256.77765219 36515.00222188 40065.94056499\n",
      " 44154.6934188  37254.56657716 50543.4358826  45179.32647619\n",
      " 36408.60305709 36817.82228584 40065.94056499 37056.95204229\n",
      " 53946.90604725 49254.41848669 51712.07655223 49032.21209898\n",
      " 46908.8813621  51634.6341556  42300.47942943 41813.84612823\n",
      " 33581.06087747 33071.38024374 46654.57772052 39656.77944005\n",
      " 36086.95923921 37797.68826651 39504.54887513 50183.53777102\n",
      " 51630.8031542  50461.5567993  54411.09032731 40428.69902454\n",
      " 36143.17724212 47107.54551819 39939.12843613 37732.33921404\n",
      " 40963.5059981  43360.91288529 43085.24326991 35360.96836111\n",
      " 45711.53688403 43862.25735599 32174.20452243 46505.84916083\n",
      " 46096.52850278 39766.37228004 52078.68038569 37814.02579968\n",
      " 34656.84224576 48040.35509604 46632.79492283 45060.08642795\n",
      " 35833.58470056 35374.3216453  39245.62673988 35006.59729147\n",
      " 41012.98677008 45827.96939854 45173.66420357 44056.14779597\n",
      " 41904.00741416 35627.82155062 53786.50267633 41239.5093921\n",
      " 45376.9463462  32709.89821157 41402.99545423 44075.45850202\n",
      " 41752.60859016 35321.40582164 33303.89560023 37430.96626282\n",
      " 41426.38591206 48918.63604259 35236.21354893 43046.15227542\n",
      " 46268.93332286 43151.91449945 44610.99112644 37187.50849101\n",
      " 46536.34600675 43501.17260734 36769.80744165 38435.65904727\n",
      " 49014.32329026 46034.57078087 35449.36550681 42537.84702864\n",
      " 35891.13125034 54851.92010117 35657.31885605 45383.94594948\n",
      " 35444.2953736  47959.08024253 45844.05002639 35258.3890557\n",
      " 34510.10150333 52351.51912342 33746.54939311 34153.83374053\n",
      " 37648.44736185 43367.78247133 45552.56253075 45140.31242094\n",
      " 37303.38432077 38932.21612412 55313.18606133 46715.92631871\n",
      " 44492.90633809 47180.23303412 48447.20359652 48530.76384072\n",
      " 37191.88708405 50008.60516949 53680.85423574 39960.08855064\n",
      " 40726.58124446 43142.32004968 36980.74617584 39661.23185338\n",
      " 34957.00095089 47668.55009786 41707.67223801 33436.77479097\n",
      " 46498.88736028 40891.04871662 47612.6965458  39195.62267871\n",
      " 38533.2183002  36256.65160545 53413.1693155  52967.86549345\n",
      " 37122.96145556 47303.55487287 43507.60113299 51076.09638818\n",
      " 36547.07471173 42573.95294749 35549.62283091 34303.6268874\n",
      " 41674.81084598 40913.08829794 37866.20885218 42624.84875006\n",
      " 43190.82979296 42404.45066491 49556.1996099  41968.14839251\n",
      " 39796.64741154 41966.68156195 45152.93669193 46646.31805553\n",
      " 39583.46586164 42902.00135367 52728.45566521 46195.35285344\n",
      " 51510.44622187 46560.15666099 41042.48827468 34296.47984138\n",
      " 49429.64929048 38539.03374634 51568.46055866 35450.96794331\n",
      " 48012.9249713  53091.76400871 35037.55244585 36753.10527\n",
      " 43699.8409626  32984.24234329 41736.64606661 41734.50907718\n",
      " 55485.07026997 33085.48819772 36440.12712866 46640.75741003\n",
      " 36903.60287406 49348.53422366 36141.30027698 32802.14067543\n",
      " 46871.61496991 49081.47390024 40238.58192336 41696.84247016\n",
      " 49856.06387074 46844.06539689 44769.25718843 44433.958258\n",
      " 35080.25788503 39643.79957813 33376.85695004 36613.77114648\n",
      " 38308.00164184 44866.00150733 45614.35365499 41059.79079645\n",
      " 36851.53621682 45672.61599162 47850.52697213 55573.5558722\n",
      " 52152.61124278 38499.99055047 40696.26589623 51758.46795389\n",
      " 40571.06798492 46935.8277196  34330.24545062 35824.09646253\n",
      " 45526.06698614 44080.85349818 35740.3610245  54595.04954163\n",
      " 36216.56902761 33590.34287417 34964.40795524 38109.05722632\n",
      " 39864.70026594 49623.17903758 37124.59685659 36789.34342227\n",
      " 44929.04283947 41526.68854463 35905.33720535 47011.96123144\n",
      " 50325.36327299 41527.41922131 35992.9697615  39909.97522471\n",
      " 51429.6975787  51300.53808586 37556.56158951 35227.36739917\n",
      " 44778.11562639 40541.01882275 38326.43428422 53845.75436994\n",
      " 37123.42937445 42331.15757522 38702.48417637 55499.5026457\n",
      " 35367.48151939 55731.49879047 34846.14326675 41036.23710328\n",
      " 35156.2865189  43541.20230499 56202.33788504 44843.60518892\n",
      " 40347.62022884 38677.42382137 43958.31745285 40047.95483545\n",
      " 42806.3101604  41826.56139144 41497.54417275 31144.31315504\n",
      " 46393.32044355 38480.13460083 52367.58180843 46204.64095617\n",
      " 44301.63073637 42607.8211322  34600.24840658 54388.04019534\n",
      " 35646.66000674 48988.11639322 39315.88734078 55696.54457135\n",
      " 36485.54278512 37374.80043512 42051.98996616 41350.912122\n",
      " 42548.32068823 35609.50045511 36206.46732462 34128.2606653\n",
      " 39234.67249795 36917.68212861 45771.8807079  46917.83136535\n",
      " 45949.52767013 38336.65995416 34972.88093631 36127.07478158\n",
      " 39042.91719628 39145.32926501 56250.62095403 42798.64720925\n",
      " 40966.39516719 54709.56743034 37906.98824957 37924.48174758\n",
      " 38410.51329894 34667.06383822 35927.24015627 44686.353613\n",
      " 39950.21816231 37718.46887857 45607.22500319 34012.75329792\n",
      " 41953.07124056 36727.89543352 40850.86832538 35084.61611104\n",
      " 36112.6317152  39882.20750763 35325.75883421 36506.88681473\n",
      " 37515.19220295 51574.79254895 36743.11677738 35985.85045638\n",
      " 38932.21612412 37530.37720974 42953.98700437 40693.68294229\n",
      " 44528.97096001 39558.82392808 43178.50487039 44381.16550871\n",
      " 45829.93316692 39756.61867241 41467.99411903 39636.82466274\n",
      " 34517.39803083 34006.02269034 35889.89173308 37791.72467267\n",
      " 53104.38159041 39786.38789467 44471.6666793  35726.62050844\n",
      " 37562.30021811 43217.04018421 35524.33860106 44392.53784238\n",
      " 31818.25017123 41467.46650897 44483.36318115 38192.49134314\n",
      " 48401.14189601 41460.46901038 35341.09777522 50070.8343011\n",
      " 41380.52466634 39632.74293817 49769.52866848 55458.38635074\n",
      " 39624.90371297 39333.70163446 37456.76212249 34643.01645806\n",
      " 38903.04006574 45480.85566414 34386.97057488 43294.87140007\n",
      " 44744.91001866 41467.46650897 42548.92441088 46861.75304586\n",
      " 51604.87378308 33991.29529724 40910.88239236 37879.37167745\n",
      " 35889.95784979 39502.77449564 46935.88231901 43025.91800959\n",
      " 44678.43700736 37976.49341996 37147.16067545 50491.27402378\n",
      " 40366.94932913 41353.41514963 45229.90753339 53234.33653265\n",
      " 39400.32074453 37482.88934678 40288.54309005 32369.36967056\n",
      " 44040.64421989 39471.76346382 45568.25587098 54341.54067508\n",
      " 49556.1996099  44301.63073637 36568.74112435 33753.58081477\n",
      " 40816.24190053 45239.64370531 50029.26300426 52859.67438159\n",
      " 46761.51175774 40845.9539775  48546.61079567 42493.75558799]\n",
      "score:  0.2717041577530157\n"
     ]
    }
   ],
   "source": [
    "# Fill in this cell with your code. We've provided helpful psuedocode.\n",
    "from sklearn.model_selection import train_test_split\n",
    "\n",
    "\n",
    "# define X = the cost and compl_4 columns\n",
    "# define Y = median_earnings\n",
    "X = problem_2_data[['cost','compl_4']]\n",
    "Y = problem_2_data['median_earnings']\n",
    "\n",
    "# split X and Y into train and test sets (using sklearn)\n",
    "x_train, x_test, y_train, y_test = train_test_split(X, Y, test_size=0.25, random_state=42)\n",
    "\n",
    "\n",
    "# create your model\n",
    "model = LinearRegression()\n",
    "\n",
    "# fit your model\n",
    "model.fit(x_train, y_train)\n",
    "\n",
    "\n",
    "# predict and print out the median earnings for the test set\n",
    "predictions = model.predict(x_test) # predict on new data\n",
    "print(predictions)\n",
    "\n",
    "# print out the score\n",
    "print(\"score: \", model.score(x_test, y_test))"
   ]
  },
  {
   "cell_type": "markdown",
   "metadata": {},
   "source": [
    "# Section 4: Validation and Testing"
   ]
  },
  {
   "cell_type": "code",
   "execution_count": 46,
   "metadata": {},
   "outputs": [],
   "source": [
    "section_4_data = original_data.copy()"
   ]
  },
  {
   "cell_type": "code",
   "execution_count": 47,
   "metadata": {},
   "outputs": [
    {
     "name": "stdout",
     "output_type": "stream",
     "text": [
      "training score: 0.7699638512856304\n",
      "validation score: -7378737082303.927\n"
     ]
    }
   ],
   "source": [
    "X = section_4_data.drop([\"name\",\"median_earnings\"], axis=1) # use all columns except name and median_earnings\n",
    "X = pd.get_dummies(X) # transform categorical columns so we can use them in linear regression\n",
    "Y = section_4_data[\"median_earnings\"]\n",
    "\n",
    "x_train, x_test, y_train, y_test = train_test_split(X, Y, test_size=0.2, random_state=42)\n",
    "\n",
    "model = LinearRegression()\n",
    "model.fit(x_train, y_train) # train on train set\n",
    "\n",
    "print(\"training score:\", model.score(x_train,y_train)) # how accurately did model capture training set relationship?\n",
    "print(\"validation score:\", model.score(x_test,y_test)) # how well can model predict new things?"
   ]
  },
  {
   "cell_type": "markdown",
   "metadata": {},
   "source": [
    "## Problem 3\n",
    "\n",
    "### Replace the 'None' values below with appropriate values to create a train-validate-test split."
   ]
  },
  {
   "cell_type": "code",
   "execution_count": 59,
   "metadata": {},
   "outputs": [
    {
     "name": "stdout",
     "output_type": "stream",
     "text": [
      "training score: 0.14830754122387846\n",
      "validation score: 0.06483800033256981\n"
     ]
    }
   ],
   "source": [
    "problem_3_data = original_data.copy()\n",
    "X = problem_3_data[[\"cost\"]] # TODO\n",
    "Y = problem_3_data[\"median_earnings\"]\n",
    "x_not_test, x_test, y_not_test, y_test = train_test_split(X, Y, test_size = .2) # TODO\n",
    "x_train, x_valid, y_train, y_valid = train_test_split(x_test, y_test, test_size= .2) # TODO\n",
    "\n",
    "model = LinearRegression()\n",
    "\n",
    "# training\n",
    "model.fit(x_train, y_train) # TODO\n",
    "\n",
    "print(\"training score:\", model.score(x_train,y_train))\n",
    "print(\"validation score:\", model.score(x_valid,y_valid))"
   ]
  },
  {
   "cell_type": "code",
   "execution_count": 60,
   "metadata": {},
   "outputs": [
    {
     "name": "stdout",
     "output_type": "stream",
     "text": [
      "testing score: 0.14662833817341303\n"
     ]
    }
   ],
   "source": [
    "print(\"testing score:\", model.score(x_test,y_test))"
   ]
  },
  {
   "cell_type": "markdown",
   "metadata": {},
   "source": [
    "## Problem 4\n",
    "\n",
    "Use 'median_earnings' to predict 'median_earnings'.\n",
    "\n",
    "Remember to create a train-test split (use whatever percentage of test set you want).\n",
    "\n",
    "Print out the coefficients. Print out the model's score. Briefly explain why you got the coefficients and accuracy that you got."
   ]
  },
  {
   "cell_type": "code",
   "execution_count": 61,
   "metadata": {},
   "outputs": [],
   "source": [
    "problem_4_data = original_data.copy()"
   ]
  },
  {
   "cell_type": "code",
   "execution_count": 65,
   "metadata": {},
   "outputs": [
    {
     "data": {
      "text/plain": [
       "LinearRegression(copy_X=True, fit_intercept=True, n_jobs=None, normalize=False)"
      ]
     },
     "execution_count": 65,
     "metadata": {},
     "output_type": "execute_result"
    }
   ],
   "source": [
    "# split data and create model\n",
    "X = problem_4_data[['median_earnings']]\n",
    "Y = problem_4_data['median_earnings']\n",
    "x_train, x_test, y_train, y_test = train_test_split(X, Y, test_size = .2 )\n",
    "model = LinearRegression()\n",
    "model.fit(x_train, y_train)\n",
    "\n"
   ]
  },
  {
   "cell_type": "code",
   "execution_count": 69,
   "metadata": {},
   "outputs": [
    {
     "name": "stdout",
     "output_type": "stream",
     "text": [
      "coeff: [1.]\n",
      "intercept: 7.275957614183426e-12\n"
     ]
    }
   ],
   "source": [
    "# print out coefficient and score\n",
    "print(\"coeff: \" + str(model.coef_))\n",
    "print(\"intercept: \" + str(model.intercept_))"
   ]
  },
  {
   "cell_type": "markdown",
   "metadata": {},
   "source": [
    "#### Briefly explain why you got the coefficients and score that you got. \n",
    "intercept, expected value of Y when X is all 0, makes sense that it's close to 0 since X = Y\n",
    "coeff: 1, since should be 1 to 1, same data set\n",
    "<Fill in here\\>"
   ]
  },
  {
   "cell_type": "markdown",
   "metadata": {},
   "source": [
    "## Problem 5 (optional)\n",
    "\n",
    "Linear regression does well with variables that are correlated. Look up how to print out the correlation matrix of a pandas dataframe.\n",
    "\n",
    "Looking at the correlation matrix, pick at least 3 features that have a low (between -0.5 and 0.5) correlation with median_earnings and plot scatterplots of each of them against median_earnings.\n",
    "Using these scatterplot, pick one of the features and try a few transformations that might increase its correlation with median_earnings. That is, create new features (columns) and see what their correlation with median_earnings is.\n",
    "\n",
    "Create a model using one of these new features, as well as other features that are well correlated with median_earnings, as features. Print out the score."
   ]
  },
  {
   "cell_type": "code",
   "execution_count": 73,
   "metadata": {},
   "outputs": [],
   "source": [
    "problem_5_data = original_data.copy()"
   ]
  },
  {
   "cell_type": "code",
   "execution_count": null,
   "metadata": {},
   "outputs": [],
   "source": [
    "# print out correlation matrix"
   ]
  },
  {
   "cell_type": "code",
   "execution_count": null,
   "metadata": {},
   "outputs": [],
   "source": [
    "# make scatter plots"
   ]
  },
  {
   "cell_type": "code",
   "execution_count": null,
   "metadata": {},
   "outputs": [],
   "source": []
  },
  {
   "cell_type": "code",
   "execution_count": null,
   "metadata": {},
   "outputs": [],
   "source": []
  },
  {
   "cell_type": "code",
   "execution_count": null,
   "metadata": {},
   "outputs": [],
   "source": []
  },
  {
   "cell_type": "code",
   "execution_count": null,
   "metadata": {},
   "outputs": [],
   "source": [
    "# create new features"
   ]
  },
  {
   "cell_type": "code",
   "execution_count": null,
   "metadata": {},
   "outputs": [],
   "source": []
  },
  {
   "cell_type": "code",
   "execution_count": null,
   "metadata": {},
   "outputs": [],
   "source": []
  },
  {
   "cell_type": "code",
   "execution_count": null,
   "metadata": {},
   "outputs": [],
   "source": []
  },
  {
   "cell_type": "code",
   "execution_count": null,
   "metadata": {},
   "outputs": [],
   "source": [
    "# create model"
   ]
  },
  {
   "cell_type": "code",
   "execution_count": null,
   "metadata": {},
   "outputs": [],
   "source": []
  },
  {
   "cell_type": "code",
   "execution_count": null,
   "metadata": {},
   "outputs": [],
   "source": [
    "# get score"
   ]
  },
  {
   "cell_type": "code",
   "execution_count": null,
   "metadata": {},
   "outputs": [],
   "source": []
  }
 ],
 "metadata": {
  "kernelspec": {
   "display_name": "Python 3",
   "language": "python",
   "name": "python3"
  },
  "language_info": {
   "codemirror_mode": {
    "name": "ipython",
    "version": 3
   },
   "file_extension": ".py",
   "mimetype": "text/x-python",
   "name": "python",
   "nbconvert_exporter": "python",
   "pygments_lexer": "ipython3",
   "version": "3.8.3"
  },
  "notebookId": "^EG=G=bpDp\\gp"
 },
 "nbformat": 4,
 "nbformat_minor": 2
}
