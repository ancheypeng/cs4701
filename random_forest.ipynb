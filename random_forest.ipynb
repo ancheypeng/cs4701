{
 "cells": [
  {
   "cell_type": "code",
   "execution_count": 35,
   "metadata": {},
   "outputs": [],
   "source": [
    "import pandas as pd\n",
    "import numpy as np\n",
    "import matplotlib.pyplot as plt\n",
    "import matplotlib\n",
    "import seaborn as sns\n"
   ]
  },
  {
   "cell_type": "code",
   "execution_count": 36,
   "metadata": {},
   "outputs": [],
   "source": [
    "from sklearn.linear_model import LinearRegression\n",
    "from sklearn.linear_model import LogisticRegression"
   ]
  },
  {
   "cell_type": "code",
   "execution_count": 37,
   "metadata": {},
   "outputs": [],
   "source": [
    "from sklearn.preprocessing import MinMaxScaler\n",
    "from sklearn.model_selection import train_test_split \n",
    "from sklearn.ensemble import RandomForestClassifier \n",
    "from sklearn.tree import DecisionTreeClassifier\n",
    "\n",
    "from sklearn import metrics"
   ]
  },
  {
   "cell_type": "code",
   "execution_count": 38,
   "metadata": {},
   "outputs": [],
   "source": [
    "from imblearn.under_sampling import NearMiss"
   ]
  },
  {
   "cell_type": "code",
   "execution_count": 39,
   "metadata": {},
   "outputs": [],
   "source": [
    "df_06 = pd.read_csv('datasets/htx_2006_weather.csv', na_values='Blank').dropna()\n",
    "df_10 = pd.read_csv('datasets/htx_2010_weather.csv', na_values='Blank').dropna()\n",
    "df_11 = pd.read_csv('datasets/htx_2011_weather.csv', na_values='Blank').dropna()\n",
    "df_12 = pd.read_csv('datasets/htx_2012_weather.csv', na_values='Blank').dropna() \n",
    "df_13 = pd.read_csv('datasets/htx_2013_weather.csv', na_values='Blank').dropna()\n",
    "df_14 = pd.read_csv('datasets/htx_2014_weather.csv', na_values='Blank').dropna()\n",
    "df_15 = pd.read_csv('datasets/htx_2015_weather.csv', na_values='Blank').dropna()\n",
    "df_18 = pd.read_csv('datasets/htx_2018_weather.csv', na_values='Blank').dropna()\n",
    "df_19 = pd.read_csv('datasets/htx_2019_weather.csv', na_values='Blank').dropna()\n",
    "df_21 = pd.read_csv('datasets/htx_2021_weather.csv', na_values='Blank').dropna()\n",
    "\n",
    "# df = pd.concat([df_10, df_11, df_12, df_13, df_14, df_15])\n",
    "\n",
    "df = pd.concat([df_06, df_10, df_11, df_12, df_13, df_14, df_15, df_18, df_19, df_21])\n",
    "# df = df_06"
   ]
  },
  {
   "cell_type": "code",
   "execution_count": 40,
   "metadata": {},
   "outputs": [],
   "source": [
    "df.rain_tomorrow = df.rain_tomorrow.map(dict(Yes=1, No=0))\n"
   ]
  },
  {
   "cell_type": "code",
   "execution_count": 41,
   "metadata": {},
   "outputs": [
    {
     "data": {
      "text/plain": [
       "<bound method NDFrame.head of            date  min_temp  max_temp  rainfall  wind_speed9am  wind_speed3pm  \\\n",
       "0    2006-01-01      64.0      81.0       0.0            8.0           14.0   \n",
       "1    2006-01-02      57.0      79.0       0.0            9.0           10.0   \n",
       "2    2006-01-03      49.0      79.0       0.0            0.0           10.0   \n",
       "3    2006-01-04      52.0      76.0       0.0            7.0            7.0   \n",
       "4    2006-01-05      51.0      69.0       0.0           16.0           23.0   \n",
       "..          ...       ...       ...       ...            ...            ...   \n",
       "360  2021-12-27      68.0      81.0       0.0            5.0           16.0   \n",
       "361  2021-12-28      72.0      84.0       0.0           14.0           15.0   \n",
       "362  2021-12-29      72.0      84.0       0.0            9.0           12.0   \n",
       "363  2021-12-30      67.0      83.0       0.0            8.0            9.0   \n",
       "364  2021-12-31      73.0      85.0       0.0           10.0           17.0   \n",
       "\n",
       "     humidity9am  humidity3pm  pressure9am  pressure3pm       cloud9am  \\\n",
       "0           90.0         54.0        29.77        29.65         Cloudy   \n",
       "1           87.0         22.0        29.91        29.89  Partly Cloudy   \n",
       "2           60.0         24.0        30.07        29.98           Fair   \n",
       "3           87.0         60.0        30.06        29.97  Mostly Cloudy   \n",
       "4           42.0         21.0        30.20        30.13           Fair   \n",
       "..           ...          ...          ...          ...            ...   \n",
       "360         87.0         58.0        29.89        29.79  Mostly Cloudy   \n",
       "361         74.0         53.0        29.71        29.63           Fair   \n",
       "362         85.0         56.0        29.72        29.67  Mostly Cloudy   \n",
       "363         84.0         58.0        29.86        29.79           Haze   \n",
       "364         87.0         58.0        29.82        29.71  Partly Cloudy   \n",
       "\n",
       "          cloud3pm  temp9am  temp3pm rain_today  rain_tomorrow  \\\n",
       "0    Partly Cloudy     71.0     81.0         No              0   \n",
       "1             Fair     63.0     78.0         No              0   \n",
       "2             Fair     60.0     79.0         No              0   \n",
       "3    Mostly Cloudy     65.0     75.0         No              0   \n",
       "4     Fair / Windy     57.0     68.0         No              0   \n",
       "..             ...      ...      ...        ...            ...   \n",
       "360         Cloudy     71.0     80.0         No              0   \n",
       "361  Mostly Cloudy     76.0     84.0         No              0   \n",
       "362  Mostly Cloudy     76.0     84.0         No              0   \n",
       "363  Partly Cloudy     73.0     83.0         No              0   \n",
       "364  Partly Cloudy     75.0     83.0         No              0   \n",
       "\n",
       "     rainfall_tomorrow  \n",
       "0                  NaN  \n",
       "1                  0.0  \n",
       "2                  0.0  \n",
       "3                  0.0  \n",
       "4                  0.0  \n",
       "..                 ...  \n",
       "360                0.0  \n",
       "361                0.0  \n",
       "362                0.0  \n",
       "363                0.0  \n",
       "364                0.0  \n",
       "\n",
       "[3617 rows x 17 columns]>"
      ]
     },
     "execution_count": 41,
     "metadata": {},
     "output_type": "execute_result"
    }
   ],
   "source": [
    "df['rainfall_tomorrow'] = df['rainfall'].shift(1)\n",
    "df.dropna()\n",
    "df.head"
   ]
  },
  {
   "cell_type": "code",
   "execution_count": 42,
   "metadata": {},
   "outputs": [
    {
     "name": "stdout",
     "output_type": "stream",
     "text": [
      "<class 'pandas.core.frame.DataFrame'>\n",
      "Int64Index: 3617 entries, 0 to 364\n",
      "Data columns (total 17 columns):\n",
      " #   Column             Non-Null Count  Dtype  \n",
      "---  ------             --------------  -----  \n",
      " 0   date               3617 non-null   object \n",
      " 1   min_temp           3617 non-null   float64\n",
      " 2   max_temp           3617 non-null   float64\n",
      " 3   rainfall           3617 non-null   float64\n",
      " 4   wind_speed9am      3617 non-null   float64\n",
      " 5   wind_speed3pm      3617 non-null   float64\n",
      " 6   humidity9am        3617 non-null   float64\n",
      " 7   humidity3pm        3617 non-null   float64\n",
      " 8   pressure9am        3617 non-null   float64\n",
      " 9   pressure3pm        3617 non-null   float64\n",
      " 10  cloud9am           3617 non-null   object \n",
      " 11  cloud3pm           3617 non-null   object \n",
      " 12  temp9am            3617 non-null   float64\n",
      " 13  temp3pm            3617 non-null   float64\n",
      " 14  rain_today         3617 non-null   object \n",
      " 15  rain_tomorrow      3617 non-null   int64  \n",
      " 16  rainfall_tomorrow  3616 non-null   float64\n",
      "dtypes: float64(12), int64(1), object(4)\n",
      "memory usage: 508.6+ KB\n"
     ]
    }
   ],
   "source": [
    "df.info()"
   ]
  },
  {
   "cell_type": "code",
   "execution_count": 43,
   "metadata": {},
   "outputs": [],
   "source": [
    "rainfall = df['rainfall'].to_numpy()\n"
   ]
  },
  {
   "cell_type": "code",
   "execution_count": 44,
   "metadata": {},
   "outputs": [
    {
     "data": {
      "text/html": [
       "<div>\n",
       "<style scoped>\n",
       "    .dataframe tbody tr th:only-of-type {\n",
       "        vertical-align: middle;\n",
       "    }\n",
       "\n",
       "    .dataframe tbody tr th {\n",
       "        vertical-align: top;\n",
       "    }\n",
       "\n",
       "    .dataframe thead th {\n",
       "        text-align: right;\n",
       "    }\n",
       "</style>\n",
       "<table border=\"1\" class=\"dataframe\">\n",
       "  <thead>\n",
       "    <tr style=\"text-align: right;\">\n",
       "      <th></th>\n",
       "      <th>count</th>\n",
       "      <th>mean</th>\n",
       "      <th>std</th>\n",
       "      <th>min</th>\n",
       "      <th>25%</th>\n",
       "      <th>50%</th>\n",
       "      <th>75%</th>\n",
       "      <th>max</th>\n",
       "    </tr>\n",
       "  </thead>\n",
       "  <tbody>\n",
       "    <tr>\n",
       "      <th>min_temp</th>\n",
       "      <td>3617.0</td>\n",
       "      <td>62.720210</td>\n",
       "      <td>14.211336</td>\n",
       "      <td>0.00</td>\n",
       "      <td>52.00</td>\n",
       "      <td>66.00</td>\n",
       "      <td>75.00</td>\n",
       "      <td>83.00</td>\n",
       "    </tr>\n",
       "    <tr>\n",
       "      <th>max_temp</th>\n",
       "      <td>3617.0</td>\n",
       "      <td>79.484932</td>\n",
       "      <td>12.915457</td>\n",
       "      <td>27.00</td>\n",
       "      <td>72.00</td>\n",
       "      <td>82.00</td>\n",
       "      <td>90.00</td>\n",
       "      <td>106.00</td>\n",
       "    </tr>\n",
       "    <tr>\n",
       "      <th>rainfall</th>\n",
       "      <td>3617.0</td>\n",
       "      <td>0.286066</td>\n",
       "      <td>1.167100</td>\n",
       "      <td>0.00</td>\n",
       "      <td>0.00</td>\n",
       "      <td>0.00</td>\n",
       "      <td>0.00</td>\n",
       "      <td>20.60</td>\n",
       "    </tr>\n",
       "    <tr>\n",
       "      <th>wind_speed9am</th>\n",
       "      <td>3617.0</td>\n",
       "      <td>8.797346</td>\n",
       "      <td>4.597471</td>\n",
       "      <td>0.00</td>\n",
       "      <td>6.00</td>\n",
       "      <td>8.00</td>\n",
       "      <td>12.00</td>\n",
       "      <td>30.00</td>\n",
       "    </tr>\n",
       "    <tr>\n",
       "      <th>wind_speed3pm</th>\n",
       "      <td>3617.0</td>\n",
       "      <td>10.588886</td>\n",
       "      <td>4.891796</td>\n",
       "      <td>0.00</td>\n",
       "      <td>7.00</td>\n",
       "      <td>10.00</td>\n",
       "      <td>14.00</td>\n",
       "      <td>31.00</td>\n",
       "    </tr>\n",
       "    <tr>\n",
       "      <th>humidity9am</th>\n",
       "      <td>3617.0</td>\n",
       "      <td>70.145701</td>\n",
       "      <td>15.841515</td>\n",
       "      <td>10.00</td>\n",
       "      <td>63.00</td>\n",
       "      <td>71.00</td>\n",
       "      <td>81.00</td>\n",
       "      <td>97.00</td>\n",
       "    </tr>\n",
       "    <tr>\n",
       "      <th>humidity3pm</th>\n",
       "      <td>3617.0</td>\n",
       "      <td>54.371026</td>\n",
       "      <td>18.373612</td>\n",
       "      <td>9.00</td>\n",
       "      <td>42.00</td>\n",
       "      <td>54.00</td>\n",
       "      <td>67.00</td>\n",
       "      <td>97.00</td>\n",
       "    </tr>\n",
       "    <tr>\n",
       "      <th>pressure9am</th>\n",
       "      <td>3617.0</td>\n",
       "      <td>30.015012</td>\n",
       "      <td>0.164393</td>\n",
       "      <td>29.46</td>\n",
       "      <td>29.91</td>\n",
       "      <td>29.99</td>\n",
       "      <td>30.10</td>\n",
       "      <td>30.72</td>\n",
       "    </tr>\n",
       "    <tr>\n",
       "      <th>pressure3pm</th>\n",
       "      <td>3617.0</td>\n",
       "      <td>29.943276</td>\n",
       "      <td>0.158386</td>\n",
       "      <td>29.39</td>\n",
       "      <td>29.84</td>\n",
       "      <td>29.93</td>\n",
       "      <td>30.03</td>\n",
       "      <td>30.59</td>\n",
       "    </tr>\n",
       "    <tr>\n",
       "      <th>temp9am</th>\n",
       "      <td>3617.0</td>\n",
       "      <td>70.783522</td>\n",
       "      <td>14.127046</td>\n",
       "      <td>19.00</td>\n",
       "      <td>61.00</td>\n",
       "      <td>74.00</td>\n",
       "      <td>83.00</td>\n",
       "      <td>94.00</td>\n",
       "    </tr>\n",
       "    <tr>\n",
       "      <th>temp3pm</th>\n",
       "      <td>3617.0</td>\n",
       "      <td>77.373237</td>\n",
       "      <td>13.929601</td>\n",
       "      <td>10.00</td>\n",
       "      <td>69.00</td>\n",
       "      <td>80.00</td>\n",
       "      <td>88.00</td>\n",
       "      <td>99.00</td>\n",
       "    </tr>\n",
       "    <tr>\n",
       "      <th>rain_tomorrow</th>\n",
       "      <td>3617.0</td>\n",
       "      <td>0.183025</td>\n",
       "      <td>0.386740</td>\n",
       "      <td>0.00</td>\n",
       "      <td>0.00</td>\n",
       "      <td>0.00</td>\n",
       "      <td>0.00</td>\n",
       "      <td>1.00</td>\n",
       "    </tr>\n",
       "    <tr>\n",
       "      <th>rainfall_tomorrow</th>\n",
       "      <td>3616.0</td>\n",
       "      <td>0.286145</td>\n",
       "      <td>1.167252</td>\n",
       "      <td>0.00</td>\n",
       "      <td>0.00</td>\n",
       "      <td>0.00</td>\n",
       "      <td>0.00</td>\n",
       "      <td>20.60</td>\n",
       "    </tr>\n",
       "  </tbody>\n",
       "</table>\n",
       "</div>"
      ],
      "text/plain": [
       "                    count       mean        std    min    25%    50%    75%  \\\n",
       "min_temp           3617.0  62.720210  14.211336   0.00  52.00  66.00  75.00   \n",
       "max_temp           3617.0  79.484932  12.915457  27.00  72.00  82.00  90.00   \n",
       "rainfall           3617.0   0.286066   1.167100   0.00   0.00   0.00   0.00   \n",
       "wind_speed9am      3617.0   8.797346   4.597471   0.00   6.00   8.00  12.00   \n",
       "wind_speed3pm      3617.0  10.588886   4.891796   0.00   7.00  10.00  14.00   \n",
       "humidity9am        3617.0  70.145701  15.841515  10.00  63.00  71.00  81.00   \n",
       "humidity3pm        3617.0  54.371026  18.373612   9.00  42.00  54.00  67.00   \n",
       "pressure9am        3617.0  30.015012   0.164393  29.46  29.91  29.99  30.10   \n",
       "pressure3pm        3617.0  29.943276   0.158386  29.39  29.84  29.93  30.03   \n",
       "temp9am            3617.0  70.783522  14.127046  19.00  61.00  74.00  83.00   \n",
       "temp3pm            3617.0  77.373237  13.929601  10.00  69.00  80.00  88.00   \n",
       "rain_tomorrow      3617.0   0.183025   0.386740   0.00   0.00   0.00   0.00   \n",
       "rainfall_tomorrow  3616.0   0.286145   1.167252   0.00   0.00   0.00   0.00   \n",
       "\n",
       "                      max  \n",
       "min_temp            83.00  \n",
       "max_temp           106.00  \n",
       "rainfall            20.60  \n",
       "wind_speed9am       30.00  \n",
       "wind_speed3pm       31.00  \n",
       "humidity9am         97.00  \n",
       "humidity3pm         97.00  \n",
       "pressure9am         30.72  \n",
       "pressure3pm         30.59  \n",
       "temp9am             94.00  \n",
       "temp3pm             99.00  \n",
       "rain_tomorrow        1.00  \n",
       "rainfall_tomorrow   20.60  "
      ]
     },
     "execution_count": 44,
     "metadata": {},
     "output_type": "execute_result"
    }
   ],
   "source": [
    "df.describe().T #measures of spread "
   ]
  },
  {
   "cell_type": "code",
   "execution_count": 45,
   "metadata": {},
   "outputs": [
    {
     "name": "stdout",
     "output_type": "stream",
     "text": [
      "          min_temp     max_temp     rainfall  wind_speed9am  wind_speed3pm  \\\n",
      "count  3617.000000  3617.000000  3617.000000    3617.000000    3617.000000   \n",
      "mean     62.720210    79.484932     0.286066       8.797346      10.588886   \n",
      "std      14.211336    12.915457     1.167100       4.597471       4.891796   \n",
      "min       0.000000    27.000000     0.000000       0.000000       0.000000   \n",
      "25%      52.000000    72.000000     0.000000       6.000000       7.000000   \n",
      "50%      66.000000    82.000000     0.000000       8.000000      10.000000   \n",
      "75%      75.000000    90.000000     0.000000      12.000000      14.000000   \n",
      "max      83.000000   106.000000    20.600000      30.000000      31.000000   \n",
      "\n",
      "       humidity9am  humidity3pm  pressure9am  pressure3pm      temp9am  \\\n",
      "count  3617.000000  3617.000000  3617.000000  3617.000000  3617.000000   \n",
      "mean     70.145701    54.371026    30.015012    29.943276    70.783522   \n",
      "std      15.841515    18.373612     0.164393     0.158386    14.127046   \n",
      "min      10.000000     9.000000    29.460000    29.390000    19.000000   \n",
      "25%      63.000000    42.000000    29.910000    29.840000    61.000000   \n",
      "50%      71.000000    54.000000    29.990000    29.930000    74.000000   \n",
      "75%      81.000000    67.000000    30.100000    30.030000    83.000000   \n",
      "max      97.000000    97.000000    30.720000    30.590000    94.000000   \n",
      "\n",
      "           temp3pm  rain_tomorrow  rainfall_tomorrow  \n",
      "count  3617.000000    3617.000000        3616.000000  \n",
      "mean     77.373237       0.183025           0.286145  \n",
      "std      13.929601       0.386740           1.167252  \n",
      "min      10.000000       0.000000           0.000000  \n",
      "25%      69.000000       0.000000           0.000000  \n",
      "50%      80.000000       0.000000           0.000000  \n",
      "75%      88.000000       0.000000           0.000000  \n",
      "max      99.000000       1.000000          20.600000  \n"
     ]
    }
   ],
   "source": [
    "print(df.describe())"
   ]
  },
  {
   "cell_type": "code",
   "execution_count": 46,
   "metadata": {},
   "outputs": [
    {
     "data": {
      "image/png": "[encoded data removed]",
      "text/plain": [
       "<Figure size 432x288 with 1 Axes>"
      ]
     },
     "metadata": {
      "needs_background": "light"
     },
     "output_type": "display_data"
    }
   ],
   "source": [
    "plt.hist(rainfall, bins=20)\n",
    "\n",
    "plt.xlabel(\"Number of days\")\n",
    "plt.ylabel(\"Rainfall (in)\")\n",
    "plt.title(\"Rainfall\")\n",
    "\n",
    "plt.show()"
   ]
  },
  {
   "cell_type": "code",
   "execution_count": 47,
   "metadata": {},
   "outputs": [
    {
     "data": {
      "image/png": "[encoded data removed]",
      "text/plain": [
       "<Figure size 432x288 with 1 Axes>"
      ]
     },
     "metadata": {
      "needs_background": "light"
     },
     "output_type": "display_data"
    }
   ],
   "source": [
    "non_zero_rainfall = rainfall[rainfall != 0]\n",
    "plt.hist(non_zero_rainfall, bins=20)\n",
    "\n",
    "plt.xlabel(\"Number of days\")\n",
    "plt.ylabel(\"Rainfall (in)\")\n",
    "plt.title(\"Non-Zero Rainfall\")\n",
    "\n",
    "plt.show()\n",
    "\n",
    "plt.show() "
   ]
  },
  {
   "cell_type": "code",
   "execution_count": 48,
   "metadata": {},
   "outputs": [
    {
     "data": {
      "text/plain": [
       "<matplotlib.axes._subplots.AxesSubplot at 0x1f039462808>"
      ]
     },
     "execution_count": 48,
     "metadata": {},
     "output_type": "execute_result"
    },
    {
     "data": {
      "image/png": "[encoded data removed]",
      "text/plain": [
       "<Figure size 1440x720 with 2 Axes>"
      ]
     },
     "metadata": {
      "needs_background": "light"
     },
     "output_type": "display_data"
    }
   ],
   "source": [
    "plt.figure(figsize = (20,10))\n",
    "sns.heatmap(df.corr(), annot = True) #generate heatmap, show data value in each cell "
   ]
  },
  {
   "cell_type": "markdown",
   "metadata": {},
   "source": [
    "observations: \n",
    "- max_temp and temp_9am have high correlation \n",
    "- min_temp and temp_9am have high correlation\n",
    "- pressure_9am ad pressure_3pm have high positive correlation \n",
    "- rainfall seems to have the highes positive correlation with humidity_3pm (.29), \n",
    "followed by rainfall and then humidity_9am  "
   ]
  },
  {
   "cell_type": "code",
   "execution_count": 49,
   "metadata": {},
   "outputs": [],
   "source": [
    "# TODO: plot distributions: \n"
   ]
  },
  {
   "cell_type": "code",
   "execution_count": 50,
   "metadata": {},
   "outputs": [],
   "source": [
    "# end data analysis and visualization \n"
   ]
  },
  {
   "cell_type": "code",
   "execution_count": 51,
   "metadata": {},
   "outputs": [],
   "source": [
    "#option 2: split by year: \n",
    "\n",
    "# year = pd.to_datetime(df.Date).dt.year\n",
    "\n",
    "# train = df[year < 2015]\n",
    "# validate = df[year == 2015]\n",
    "# test = df[year > 2015]"
   ]
  },
  {
   "cell_type": "code",
   "execution_count": 52,
   "metadata": {},
   "outputs": [],
   "source": [
    "train, validate, test = \\\n",
    "              np.split(df.sample(frac=1, random_state=42), \n",
    "                       [int(.6*len(df)), int(.8*len(df))])"
   ]
  },
  {
   "cell_type": "code",
   "execution_count": 53,
   "metadata": {},
   "outputs": [],
   "source": [
    "input_cols = [\n",
    "                'min_temp', \n",
    "                'max_temp', \n",
    "                'wind_speed9am', \n",
    "                'wind_speed3pm', \n",
    "                'humidity9am', \n",
    "                'humidity3pm', \n",
    "                'pressure9am', \n",
    "                'pressure3pm', \n",
    "                'temp9am', \n",
    "                'temp3pm',\n",
    "                'rainfall']\n",
    "\n",
    "target_col = ['rain_tomorrow'] #yes/no will it rain tomorrow "
   ]
  },
  {
   "cell_type": "code",
   "execution_count": 54,
   "metadata": {},
   "outputs": [],
   "source": [
    "x_val = validate[input_cols]\n",
    "y_val = validate[['rain_tomorrow']]"
   ]
  },
  {
   "cell_type": "code",
   "execution_count": 55,
   "metadata": {},
   "outputs": [],
   "source": [
    "x_train = train[input_cols]\n",
    "y_train = train[['rain_tomorrow']]"
   ]
  },
  {
   "cell_type": "code",
   "execution_count": 56,
   "metadata": {},
   "outputs": [],
   "source": [
    "x_test = test[input_cols]\n",
    "y_test = test[['rain_tomorrow']]"
   ]
  },
  {
   "cell_type": "code",
   "execution_count": 57,
   "metadata": {},
   "outputs": [],
   "source": [
    "# TODO: add graph showing the imbalance of no/yes's for rain tomorrow "
   ]
  },
  {
   "cell_type": "code",
   "execution_count": 58,
   "metadata": {},
   "outputs": [],
   "source": [
    "#option 1: using nearMidd \n",
    "\n",
    "# nm = NearMiss()\n",
    "# x_train_resampled, y_train_resampled = nm.fit_resample(x_train, y_train)"
   ]
  },
  {
   "cell_type": "code",
   "execution_count": 59,
   "metadata": {},
   "outputs": [],
   "source": [
    "#option 2:  random undersampler \n",
    "from imblearn.over_sampling import RandomOverSampler\n",
    "over_sampler = RandomOverSampler(sampling_strategy='minority', random_state=42)\n",
    "x_train_resampled, y_train_resampled = over_sampler.fit_resample(x_train, y_train)"
   ]
  },
  {
   "cell_type": "code",
   "execution_count": 61,
   "metadata": {},
   "outputs": [],
   "source": [
    "x_train = x_train_resampled\n",
    "y_train = y_train_resampled"
   ]
  },
  {
   "cell_type": "code",
   "execution_count": null,
   "metadata": {},
   "outputs": [],
   "source": [
    "# y_train = train[['rain_tomorrow']]"
   ]
  },
  {
   "cell_type": "code",
   "execution_count": null,
   "metadata": {},
   "outputs": [
    {
     "name": "stderr",
     "output_type": "stream",
     "text": [
      "c:\\ProgramData\\Anaconda3\\lib\\site-packages\\ipykernel_launcher.py:3: SettingWithCopyWarning: \n",
      "A value is trying to be set on a copy of a slice from a DataFrame.\n",
      "Try using .loc[row_indexer,col_indexer] = value instead\n",
      "\n",
      "See the caveats in the documentation: https://pandas.pydata.org/pandas-docs/stable/user_guide/indexing.html#returning-a-view-versus-a-copy\n",
      "  This is separate from the ipykernel package so we can avoid doing imports until\n",
      "c:\\ProgramData\\Anaconda3\\lib\\site-packages\\pandas\\core\\frame.py:2969: SettingWithCopyWarning: \n",
      "A value is trying to be set on a copy of a slice from a DataFrame\n",
      "\n",
      "See the caveats in the documentation: https://pandas.pydata.org/pandas-docs/stable/user_guide/indexing.html#returning-a-view-versus-a-copy\n",
      "  self.loc._setitem_with_indexer((slice(None), indexer), value)\n",
      "c:\\ProgramData\\Anaconda3\\lib\\site-packages\\pandas\\core\\frame.py:2935: SettingWithCopyWarning: \n",
      "A value is trying to be set on a copy of a slice from a DataFrame\n",
      "\n",
      "See the caveats in the documentation: https://pandas.pydata.org/pandas-docs/stable/user_guide/indexing.html#returning-a-view-versus-a-copy\n",
      "  self._setitem_array(key, value)\n",
      "c:\\ProgramData\\Anaconda3\\lib\\site-packages\\ipykernel_launcher.py:4: SettingWithCopyWarning: \n",
      "A value is trying to be set on a copy of a slice from a DataFrame.\n",
      "Try using .loc[row_indexer,col_indexer] = value instead\n",
      "\n",
      "See the caveats in the documentation: https://pandas.pydata.org/pandas-docs/stable/user_guide/indexing.html#returning-a-view-versus-a-copy\n",
      "  after removing the cwd from sys.path.\n",
      "c:\\ProgramData\\Anaconda3\\lib\\site-packages\\pandas\\core\\frame.py:2969: SettingWithCopyWarning: \n",
      "A value is trying to be set on a copy of a slice from a DataFrame\n",
      "\n",
      "See the caveats in the documentation: https://pandas.pydata.org/pandas-docs/stable/user_guide/indexing.html#returning-a-view-versus-a-copy\n",
      "  self.loc._setitem_with_indexer((slice(None), indexer), value)\n",
      "c:\\ProgramData\\Anaconda3\\lib\\site-packages\\pandas\\core\\frame.py:2935: SettingWithCopyWarning: \n",
      "A value is trying to be set on a copy of a slice from a DataFrame\n",
      "\n",
      "See the caveats in the documentation: https://pandas.pydata.org/pandas-docs/stable/user_guide/indexing.html#returning-a-view-versus-a-copy\n",
      "  self._setitem_array(key, value)\n"
     ]
    }
   ],
   "source": [
    "#scaling numeric columns to standardize \n",
    "# ML would weigh higher values greater than smaller values regardless of unit without scaling\n",
    "\n",
    "scaler = MinMaxScaler().fit(df[input_cols])\n",
    "\n",
    "x_val[input_cols] = scaler.transform(x_val[input_cols])\n",
    "x_test[input_cols] = scaler.transform(x_test[input_cols])\n",
    "x_train[input_cols] = scaler.transform(x_train[input_cols])\n",
    "# x_train_resampled[input_cols] = scaler.transform(x_train_resampled[input_cols])"
   ]
  },
  {
   "cell_type": "code",
   "execution_count": null,
   "metadata": {},
   "outputs": [
    {
     "data": {
      "text/html": [
       "<div>\n",
       "<style scoped>\n",
       "    .dataframe tbody tr th:only-of-type {\n",
       "        vertical-align: middle;\n",
       "    }\n",
       "\n",
       "    .dataframe tbody tr th {\n",
       "        vertical-align: top;\n",
       "    }\n",
       "\n",
       "    .dataframe thead th {\n",
       "        text-align: right;\n",
       "    }\n",
       "</style>\n",
       "<table border=\"1\" class=\"dataframe\">\n",
       "  <thead>\n",
       "    <tr style=\"text-align: right;\">\n",
       "      <th></th>\n",
       "      <th>min_temp</th>\n",
       "      <th>max_temp</th>\n",
       "      <th>wind_speed9am</th>\n",
       "      <th>wind_speed3pm</th>\n",
       "      <th>humidity9am</th>\n",
       "      <th>humidity3pm</th>\n",
       "      <th>pressure9am</th>\n",
       "      <th>pressure3pm</th>\n",
       "      <th>temp9am</th>\n",
       "      <th>temp3pm</th>\n",
       "      <th>rainfall</th>\n",
       "    </tr>\n",
       "  </thead>\n",
       "  <tbody>\n",
       "    <tr>\n",
       "      <th>min</th>\n",
       "      <td>0.0</td>\n",
       "      <td>0.075949</td>\n",
       "      <td>0.0</td>\n",
       "      <td>0.000000</td>\n",
       "      <td>0.0</td>\n",
       "      <td>0.0</td>\n",
       "      <td>0.047619</td>\n",
       "      <td>0.033333</td>\n",
       "      <td>0.0</td>\n",
       "      <td>0.0</td>\n",
       "      <td>0.000000</td>\n",
       "    </tr>\n",
       "    <tr>\n",
       "      <th>max</th>\n",
       "      <td>1.0</td>\n",
       "      <td>0.949367</td>\n",
       "      <td>1.0</td>\n",
       "      <td>0.935484</td>\n",
       "      <td>1.0</td>\n",
       "      <td>1.0</td>\n",
       "      <td>1.000000</td>\n",
       "      <td>0.991667</td>\n",
       "      <td>1.0</td>\n",
       "      <td>1.0</td>\n",
       "      <td>0.912621</td>\n",
       "    </tr>\n",
       "  </tbody>\n",
       "</table>\n",
       "</div>"
      ],
      "text/plain": [
       "     min_temp  max_temp  wind_speed9am  wind_speed3pm  humidity9am  \\\n",
       "min       0.0  0.075949            0.0       0.000000          0.0   \n",
       "max       1.0  0.949367            1.0       0.935484          1.0   \n",
       "\n",
       "     humidity3pm  pressure9am  pressure3pm  temp9am  temp3pm  rainfall  \n",
       "min          0.0     0.047619     0.033333      0.0      0.0  0.000000  \n",
       "max          1.0     1.000000     0.991667      1.0      1.0  0.912621  "
      ]
     },
     "execution_count": 26,
     "metadata": {},
     "output_type": "execute_result"
    }
   ],
   "source": [
    "x_val.describe().loc[['min', 'max']]"
   ]
  },
  {
   "cell_type": "code",
   "execution_count": null,
   "metadata": {},
   "outputs": [
    {
     "data": {
      "text/plain": [
       "DecisionTreeClassifier(random_state=42)"
      ]
     },
     "execution_count": 27,
     "metadata": {},
     "output_type": "execute_result"
    }
   ],
   "source": [
    "# model = RandomForestClassifier(n_estimators = 100) \n",
    "model = DecisionTreeClassifier(random_state=42)\n",
    "# model.fit(x_train_resampled, y_train_resampled)\n",
    "model.fit(x_train, y_train)"
   ]
  },
  {
   "cell_type": "code",
   "execution_count": null,
   "metadata": {},
   "outputs": [],
   "source": [
    "#TODO: redo evaluation \n",
    "\n",
    "y_pred = model.predict(x_test)"
   ]
  },
  {
   "cell_type": "code",
   "execution_count": null,
   "metadata": {},
   "outputs": [
    {
     "name": "stdout",
     "output_type": "stream",
     "text": [
      "Training Accuracy Score: 100.00\n"
     ]
    }
   ],
   "source": [
    "print('Training Accuracy Score: {:.2f}'.format(model.score(x_train_resampled,y_train_resampled)*100)) #train"
   ]
  },
  {
   "cell_type": "code",
   "execution_count": null,
   "metadata": {},
   "outputs": [
    {
     "name": "stdout",
     "output_type": "stream",
     "text": [
      "Test Accuracy Score: 36.19\n"
     ]
    }
   ],
   "source": [
    "print('Test Accuracy Score: {:.2f}'.format(model.score(x_test,y_test)*100)) #train"
   ]
  },
  {
   "cell_type": "code",
   "execution_count": null,
   "metadata": {},
   "outputs": [
    {
     "name": "stdout",
     "output_type": "stream",
     "text": [
      "Validation Accuracy Score: 36.65\n"
     ]
    }
   ],
   "source": [
    "print('Validation Accuracy Score: {:.2f}'.format(model.score(x_val,y_val)*100)) #validation  "
   ]
  },
  {
   "cell_type": "code",
   "execution_count": null,
   "metadata": {},
   "outputs": [
    {
     "name": "stdout",
     "output_type": "stream",
     "text": [
      "Accuracy Score: 36.19\n"
     ]
    }
   ],
   "source": [
    "print('Accuracy Score: {:.2f}'.format(metrics.accuracy_score(y_test, y_pred)*100))\n",
    "\n",
    "\n",
    "# this score would be .82 if we didn't rebalance bc of the large amount of nos "
   ]
  },
  {
   "cell_type": "code",
   "execution_count": null,
   "metadata": {},
   "outputs": [
    {
     "name": "stdout",
     "output_type": "stream",
     "text": [
      "F1 Score: 25.72\n"
     ]
    }
   ],
   "source": [
    "print('F1 Score: {:.2f}'.format(metrics.f1_score(y_test, y_pred) * 100))\n"
   ]
  },
  {
   "cell_type": "code",
   "execution_count": null,
   "metadata": {},
   "outputs": [],
   "source": [
    "#numerical for random forest "
   ]
  }
 ],
 "metadata": {
  "kernelspec": {
   "display_name": "Python 3",
   "language": "python",
   "name": "python3"
  },
  "language_info": {
   "codemirror_mode": {
    "name": "ipython",
    "version": 3
   },
   "file_extension": ".py",
   "mimetype": "text/x-python",
   "name": "python",
   "nbconvert_exporter": "python",
   "pygments_lexer": "ipython3",
   "version": "3.7.6"
  },
  "orig_nbformat": 4
 },
 "nbformat": 4,
 "nbformat_minor": 2
}
