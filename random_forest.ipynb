{
 "cells": [
  {
   "cell_type": "code",
   "execution_count": 153,
   "metadata": {},
   "outputs": [],
   "source": [
    "import pandas as pd\n",
    "import numpy as np\n",
    "import matplotlib.pyplot as plt\n",
    "import matplotlib\n",
    "import seaborn as sns\n"
   ]
  },
  {
   "cell_type": "code",
   "execution_count": 154,
   "metadata": {},
   "outputs": [],
   "source": [
    "from sklearn.linear_model import LinearRegression\n",
    "from sklearn.linear_model import LogisticRegression"
   ]
  },
  {
   "cell_type": "code",
   "execution_count": 155,
   "metadata": {},
   "outputs": [],
   "source": [
    "from sklearn.preprocessing import MinMaxScaler\n",
    "from sklearn.model_selection import train_test_split \n",
    "from sklearn.ensemble import RandomForestClassifier \n",
    "from sklearn.tree import DecisionTreeClassifier\n",
    "\n",
    "from sklearn import metrics"
   ]
  },
  {
   "cell_type": "code",
   "execution_count": 156,
   "metadata": {},
   "outputs": [],
   "source": [
    "from imblearn.under_sampling import NearMiss"
   ]
  },
  {
   "cell_type": "code",
   "execution_count": 157,
   "metadata": {},
   "outputs": [],
   "source": [
    "# df_06 = pd.read_csv('datasets/htx_2006_weather.csv', na_values='Blank').dropna()\n",
    "df_10 = pd.read_csv('datasets/htx_2010_weather.csv', na_values='Blank').dropna()\n",
    "df_11 = pd.read_csv('datasets/htx_2011_weather.csv', na_values='Blank').dropna()\n",
    "df_12 = pd.read_csv('datasets/htx_2012_weather.csv', na_values='Blank').dropna() \n",
    "df_13 = pd.read_csv('datasets/htx_2013_weather.csv', na_values='Blank').dropna()\n",
    "df_14 = pd.read_csv('datasets/htx_2014_weather.csv', na_values='Blank').dropna()\n",
    "df_15 = pd.read_csv('datasets/htx_2015_weather.csv', na_values='Blank').dropna()\n",
    "# df_18 = pd.read_csv('datasets/htx_2018_weather.csv', na_values='Blank').dropna()\n",
    "# df_19 = pd.read_csv('datasets/htx_2019_weather.csv', na_values='Blank').dropna()\n",
    "# df_21 = pd.read_csv('datasets/htx_2021_weather.csv', na_values='Blank').dropna()\n",
    "\n",
    "df = pd.concat([df_10, df_11, df_12, df_13, df_14, df_15])\n",
    "\n",
    "# df = pd.concat([df_06, df_10, df_11, df_12, df_13, df_14, df_15, df_18, df_19, df_21])\n",
    "# df = df_06"
   ]
  },
  {
   "cell_type": "code",
   "execution_count": 158,
   "metadata": {},
   "outputs": [],
   "source": [
    "df.rain_tomorrow = df.rain_tomorrow.map(dict(Yes=1, No=0))\n"
   ]
  },
  {
   "cell_type": "code",
   "execution_count": 159,
   "metadata": {},
   "outputs": [
    {
     "data": {
      "text/plain": [
       "<bound method NDFrame.head of            date  min_temp  max_temp  rainfall  wind_speed9am  wind_speed3pm  \\\n",
       "0    2010-01-01      43.0      55.0       0.0           15.0           15.0   \n",
       "1    2010-01-02      35.0      53.0       0.0            5.0            7.0   \n",
       "2    2010-01-03      43.0      48.0       0.0           14.0            9.0   \n",
       "3    2010-01-04      36.0      48.0       0.0           15.0           14.0   \n",
       "4    2010-01-05      30.0      49.0       0.0            9.0            5.0   \n",
       "..          ...       ...       ...       ...            ...            ...   \n",
       "360  2015-12-27      47.0      78.0       2.0           15.0           20.0   \n",
       "361  2015-12-28      41.0      52.0       0.0           21.0           16.0   \n",
       "362  2015-12-29      42.0      54.0       0.0            6.0            6.0   \n",
       "363  2015-12-30      50.0      57.0       0.0           14.0            9.0   \n",
       "364  2015-12-31      51.0      55.0       0.0           13.0           10.0   \n",
       "\n",
       "     humidity9am  humidity3pm  pressure9am  pressure3pm  \\\n",
       "0           76.0         40.0        30.40        30.31   \n",
       "1           76.0         28.0        30.35        30.24   \n",
       "2           71.0         68.0        30.21        30.17   \n",
       "3           70.0         42.0        30.37        30.35   \n",
       "4           61.0         37.0        30.47        30.34   \n",
       "..           ...          ...          ...          ...   \n",
       "360         85.0         82.0        29.63        29.47   \n",
       "361         62.0         49.0        29.84        29.84   \n",
       "362         76.0         68.0        30.04        29.98   \n",
       "363         80.0         67.0        30.12        30.10   \n",
       "364         66.0         53.0        30.19        30.14   \n",
       "\n",
       "                  cloud9am       cloud3pm  temp9am  temp3pm rain_today  \\\n",
       "0                   Cloudy           Fair     43.0     55.0         No   \n",
       "1            Mostly Cloudy  Mostly Cloudy     44.0     52.0         No   \n",
       "2                   Cloudy         Cloudy     43.0     48.0         No   \n",
       "3                   Cloudy           Fair     41.0     48.0         No   \n",
       "4                     Fair  Partly Cloudy     35.0     48.0         No   \n",
       "..                     ...            ...      ...      ...        ...   \n",
       "360                 Cloudy         Cloudy     76.0     77.0        Yes   \n",
       "361  Partly Cloudy / Windy           Fair     42.0     52.0         No   \n",
       "362          Mostly Cloudy         Cloudy     45.0     51.0         No   \n",
       "363                 Cloudy         Cloudy     53.0     56.0         No   \n",
       "364                 Cloudy         Cloudy     51.0     55.0         No   \n",
       "\n",
       "     rain_tomorrow  rainfall_tomorrow  \n",
       "0                0                NaN  \n",
       "1                0                0.0  \n",
       "2                0                0.0  \n",
       "3                0                0.0  \n",
       "4                0                0.0  \n",
       "..             ...                ...  \n",
       "360              0                0.0  \n",
       "361              0                2.0  \n",
       "362              0                0.0  \n",
       "363              0                0.0  \n",
       "364              0                0.0  \n",
       "\n",
       "[2172 rows x 17 columns]>"
      ]
     },
     "execution_count": 159,
     "metadata": {},
     "output_type": "execute_result"
    }
   ],
   "source": [
    "df['rainfall_tomorrow'] = df['rainfall'].shift(1)\n",
    "df.dropna()\n",
    "df.head"
   ]
  },
  {
   "cell_type": "code",
   "execution_count": 160,
   "metadata": {},
   "outputs": [
    {
     "name": "stdout",
     "output_type": "stream",
     "text": [
      "<class 'pandas.core.frame.DataFrame'>\n",
      "Int64Index: 2172 entries, 0 to 364\n",
      "Data columns (total 17 columns):\n",
      " #   Column             Non-Null Count  Dtype  \n",
      "---  ------             --------------  -----  \n",
      " 0   date               2172 non-null   object \n",
      " 1   min_temp           2172 non-null   float64\n",
      " 2   max_temp           2172 non-null   float64\n",
      " 3   rainfall           2172 non-null   float64\n",
      " 4   wind_speed9am      2172 non-null   float64\n",
      " 5   wind_speed3pm      2172 non-null   float64\n",
      " 6   humidity9am        2172 non-null   float64\n",
      " 7   humidity3pm        2172 non-null   float64\n",
      " 8   pressure9am        2172 non-null   float64\n",
      " 9   pressure3pm        2172 non-null   float64\n",
      " 10  cloud9am           2172 non-null   object \n",
      " 11  cloud3pm           2172 non-null   object \n",
      " 12  temp9am            2172 non-null   float64\n",
      " 13  temp3pm            2172 non-null   float64\n",
      " 14  rain_today         2172 non-null   object \n",
      " 15  rain_tomorrow      2172 non-null   int64  \n",
      " 16  rainfall_tomorrow  2171 non-null   float64\n",
      "dtypes: float64(12), int64(1), object(4)\n",
      "memory usage: 305.4+ KB\n"
     ]
    }
   ],
   "source": [
    "df.info()"
   ]
  },
  {
   "cell_type": "code",
   "execution_count": 161,
   "metadata": {},
   "outputs": [],
   "source": [
    "rainfall = df['rainfall'].to_numpy()\n"
   ]
  },
  {
   "cell_type": "code",
   "execution_count": 162,
   "metadata": {},
   "outputs": [
    {
     "data": {
      "text/html": [
       "<div>\n",
       "<style scoped>\n",
       "    .dataframe tbody tr th:only-of-type {\n",
       "        vertical-align: middle;\n",
       "    }\n",
       "\n",
       "    .dataframe tbody tr th {\n",
       "        vertical-align: top;\n",
       "    }\n",
       "\n",
       "    .dataframe thead th {\n",
       "        text-align: right;\n",
       "    }\n",
       "</style>\n",
       "<table border=\"1\" class=\"dataframe\">\n",
       "  <thead>\n",
       "    <tr style=\"text-align: right;\">\n",
       "      <th></th>\n",
       "      <th>count</th>\n",
       "      <th>mean</th>\n",
       "      <th>std</th>\n",
       "      <th>min</th>\n",
       "      <th>25%</th>\n",
       "      <th>50%</th>\n",
       "      <th>75%</th>\n",
       "      <th>max</th>\n",
       "    </tr>\n",
       "  </thead>\n",
       "  <tbody>\n",
       "    <tr>\n",
       "      <th>min_temp</th>\n",
       "      <td>2172.0</td>\n",
       "      <td>62.309392</td>\n",
       "      <td>14.286244</td>\n",
       "      <td>0.00</td>\n",
       "      <td>52.00</td>\n",
       "      <td>65.00</td>\n",
       "      <td>75.00</td>\n",
       "      <td>83.00</td>\n",
       "    </tr>\n",
       "    <tr>\n",
       "      <th>max_temp</th>\n",
       "      <td>2172.0</td>\n",
       "      <td>79.250460</td>\n",
       "      <td>13.242481</td>\n",
       "      <td>33.00</td>\n",
       "      <td>71.00</td>\n",
       "      <td>81.00</td>\n",
       "      <td>90.00</td>\n",
       "      <td>106.00</td>\n",
       "    </tr>\n",
       "    <tr>\n",
       "      <th>rainfall</th>\n",
       "      <td>2172.0</td>\n",
       "      <td>0.263628</td>\n",
       "      <td>1.078248</td>\n",
       "      <td>0.00</td>\n",
       "      <td>0.00</td>\n",
       "      <td>0.00</td>\n",
       "      <td>0.00</td>\n",
       "      <td>18.80</td>\n",
       "    </tr>\n",
       "    <tr>\n",
       "      <th>wind_speed9am</th>\n",
       "      <td>2172.0</td>\n",
       "      <td>8.595304</td>\n",
       "      <td>4.616937</td>\n",
       "      <td>0.00</td>\n",
       "      <td>6.00</td>\n",
       "      <td>8.00</td>\n",
       "      <td>12.00</td>\n",
       "      <td>30.00</td>\n",
       "    </tr>\n",
       "    <tr>\n",
       "      <th>wind_speed3pm</th>\n",
       "      <td>2172.0</td>\n",
       "      <td>10.305709</td>\n",
       "      <td>4.805714</td>\n",
       "      <td>0.00</td>\n",
       "      <td>7.00</td>\n",
       "      <td>10.00</td>\n",
       "      <td>14.00</td>\n",
       "      <td>29.00</td>\n",
       "    </tr>\n",
       "    <tr>\n",
       "      <th>humidity9am</th>\n",
       "      <td>2172.0</td>\n",
       "      <td>70.442910</td>\n",
       "      <td>15.271049</td>\n",
       "      <td>10.00</td>\n",
       "      <td>63.75</td>\n",
       "      <td>71.00</td>\n",
       "      <td>81.00</td>\n",
       "      <td>97.00</td>\n",
       "    </tr>\n",
       "    <tr>\n",
       "      <th>humidity3pm</th>\n",
       "      <td>2172.0</td>\n",
       "      <td>53.990331</td>\n",
       "      <td>18.310979</td>\n",
       "      <td>9.00</td>\n",
       "      <td>41.00</td>\n",
       "      <td>54.00</td>\n",
       "      <td>66.00</td>\n",
       "      <td>97.00</td>\n",
       "    </tr>\n",
       "    <tr>\n",
       "      <th>pressure9am</th>\n",
       "      <td>2172.0</td>\n",
       "      <td>30.015437</td>\n",
       "      <td>0.165219</td>\n",
       "      <td>29.52</td>\n",
       "      <td>29.91</td>\n",
       "      <td>29.99</td>\n",
       "      <td>30.10</td>\n",
       "      <td>30.72</td>\n",
       "    </tr>\n",
       "    <tr>\n",
       "      <th>pressure3pm</th>\n",
       "      <td>2172.0</td>\n",
       "      <td>29.943292</td>\n",
       "      <td>0.159063</td>\n",
       "      <td>29.43</td>\n",
       "      <td>29.84</td>\n",
       "      <td>29.93</td>\n",
       "      <td>30.03</td>\n",
       "      <td>30.58</td>\n",
       "    </tr>\n",
       "    <tr>\n",
       "      <th>temp9am</th>\n",
       "      <td>2172.0</td>\n",
       "      <td>70.449355</td>\n",
       "      <td>14.285556</td>\n",
       "      <td>25.00</td>\n",
       "      <td>60.00</td>\n",
       "      <td>73.00</td>\n",
       "      <td>83.00</td>\n",
       "      <td>94.00</td>\n",
       "    </tr>\n",
       "    <tr>\n",
       "      <th>temp3pm</th>\n",
       "      <td>2172.0</td>\n",
       "      <td>76.904696</td>\n",
       "      <td>14.637289</td>\n",
       "      <td>10.00</td>\n",
       "      <td>69.00</td>\n",
       "      <td>79.00</td>\n",
       "      <td>88.00</td>\n",
       "      <td>99.00</td>\n",
       "    </tr>\n",
       "    <tr>\n",
       "      <th>rain_tomorrow</th>\n",
       "      <td>2172.0</td>\n",
       "      <td>0.174033</td>\n",
       "      <td>0.379225</td>\n",
       "      <td>0.00</td>\n",
       "      <td>0.00</td>\n",
       "      <td>0.00</td>\n",
       "      <td>0.00</td>\n",
       "      <td>1.00</td>\n",
       "    </tr>\n",
       "    <tr>\n",
       "      <th>rainfall_tomorrow</th>\n",
       "      <td>2171.0</td>\n",
       "      <td>0.263749</td>\n",
       "      <td>1.078482</td>\n",
       "      <td>0.00</td>\n",
       "      <td>0.00</td>\n",
       "      <td>0.00</td>\n",
       "      <td>0.00</td>\n",
       "      <td>18.80</td>\n",
       "    </tr>\n",
       "  </tbody>\n",
       "</table>\n",
       "</div>"
      ],
      "text/plain": [
       "                    count       mean        std    min    25%    50%    75%  \\\n",
       "min_temp           2172.0  62.309392  14.286244   0.00  52.00  65.00  75.00   \n",
       "max_temp           2172.0  79.250460  13.242481  33.00  71.00  81.00  90.00   \n",
       "rainfall           2172.0   0.263628   1.078248   0.00   0.00   0.00   0.00   \n",
       "wind_speed9am      2172.0   8.595304   4.616937   0.00   6.00   8.00  12.00   \n",
       "wind_speed3pm      2172.0  10.305709   4.805714   0.00   7.00  10.00  14.00   \n",
       "humidity9am        2172.0  70.442910  15.271049  10.00  63.75  71.00  81.00   \n",
       "humidity3pm        2172.0  53.990331  18.310979   9.00  41.00  54.00  66.00   \n",
       "pressure9am        2172.0  30.015437   0.165219  29.52  29.91  29.99  30.10   \n",
       "pressure3pm        2172.0  29.943292   0.159063  29.43  29.84  29.93  30.03   \n",
       "temp9am            2172.0  70.449355  14.285556  25.00  60.00  73.00  83.00   \n",
       "temp3pm            2172.0  76.904696  14.637289  10.00  69.00  79.00  88.00   \n",
       "rain_tomorrow      2172.0   0.174033   0.379225   0.00   0.00   0.00   0.00   \n",
       "rainfall_tomorrow  2171.0   0.263749   1.078482   0.00   0.00   0.00   0.00   \n",
       "\n",
       "                      max  \n",
       "min_temp            83.00  \n",
       "max_temp           106.00  \n",
       "rainfall            18.80  \n",
       "wind_speed9am       30.00  \n",
       "wind_speed3pm       29.00  \n",
       "humidity9am         97.00  \n",
       "humidity3pm         97.00  \n",
       "pressure9am         30.72  \n",
       "pressure3pm         30.58  \n",
       "temp9am             94.00  \n",
       "temp3pm             99.00  \n",
       "rain_tomorrow        1.00  \n",
       "rainfall_tomorrow   18.80  "
      ]
     },
     "execution_count": 162,
     "metadata": {},
     "output_type": "execute_result"
    }
   ],
   "source": [
    "df.describe().T #measures of spread "
   ]
  },
  {
   "cell_type": "code",
   "execution_count": 163,
   "metadata": {},
   "outputs": [
    {
     "name": "stdout",
     "output_type": "stream",
     "text": [
      "          min_temp     max_temp     rainfall  wind_speed9am  wind_speed3pm  \\\n",
      "count  2172.000000  2172.000000  2172.000000    2172.000000    2172.000000   \n",
      "mean     62.309392    79.250460     0.263628       8.595304      10.305709   \n",
      "std      14.286244    13.242481     1.078248       4.616937       4.805714   \n",
      "min       0.000000    33.000000     0.000000       0.000000       0.000000   \n",
      "25%      52.000000    71.000000     0.000000       6.000000       7.000000   \n",
      "50%      65.000000    81.000000     0.000000       8.000000      10.000000   \n",
      "75%      75.000000    90.000000     0.000000      12.000000      14.000000   \n",
      "max      83.000000   106.000000    18.800000      30.000000      29.000000   \n",
      "\n",
      "       humidity9am  humidity3pm  pressure9am  pressure3pm      temp9am  \\\n",
      "count  2172.000000  2172.000000  2172.000000  2172.000000  2172.000000   \n",
      "mean     70.442910    53.990331    30.015437    29.943292    70.449355   \n",
      "std      15.271049    18.310979     0.165219     0.159063    14.285556   \n",
      "min      10.000000     9.000000    29.520000    29.430000    25.000000   \n",
      "25%      63.750000    41.000000    29.910000    29.840000    60.000000   \n",
      "50%      71.000000    54.000000    29.990000    29.930000    73.000000   \n",
      "75%      81.000000    66.000000    30.100000    30.030000    83.000000   \n",
      "max      97.000000    97.000000    30.720000    30.580000    94.000000   \n",
      "\n",
      "           temp3pm  rain_tomorrow  rainfall_tomorrow  \n",
      "count  2172.000000    2172.000000        2171.000000  \n",
      "mean     76.904696       0.174033           0.263749  \n",
      "std      14.637289       0.379225           1.078482  \n",
      "min      10.000000       0.000000           0.000000  \n",
      "25%      69.000000       0.000000           0.000000  \n",
      "50%      79.000000       0.000000           0.000000  \n",
      "75%      88.000000       0.000000           0.000000  \n",
      "max      99.000000       1.000000          18.800000  \n"
     ]
    }
   ],
   "source": [
    "print(df.describe())"
   ]
  },
  {
   "cell_type": "code",
   "execution_count": 164,
   "metadata": {},
   "outputs": [
    {
     "data": {
      "image/png": "[encoded data removed]",
      "text/plain": [
       "<Figure size 432x288 with 1 Axes>"
      ]
     },
     "metadata": {
      "needs_background": "light"
     },
     "output_type": "display_data"
    }
   ],
   "source": [
    "plt.hist(rainfall, bins=20)\n",
    "\n",
    "plt.xlabel(\"Number of days\")\n",
    "plt.ylabel(\"Rainfall (in)\")\n",
    "plt.title(\"Rainfall\")\n",
    "\n",
    "plt.show()"
   ]
  },
  {
   "cell_type": "code",
   "execution_count": 165,
   "metadata": {},
   "outputs": [
    {
     "data": {
      "image/png": "[encoded data removed]",
      "text/plain": [
       "<Figure size 432x288 with 1 Axes>"
      ]
     },
     "metadata": {
      "needs_background": "light"
     },
     "output_type": "display_data"
    }
   ],
   "source": [
    "non_zero_rainfall = rainfall[rainfall != 0]\n",
    "plt.hist(non_zero_rainfall, bins=20)\n",
    "\n",
    "plt.xlabel(\"Number of days\")\n",
    "plt.ylabel(\"Rainfall (in)\")\n",
    "plt.title(\"Non-Zero Rainfall\")\n",
    "\n",
    "plt.show()\n",
    "\n",
    "plt.show() "
   ]
  },
  {
   "cell_type": "code",
   "execution_count": 186,
   "metadata": {},
   "outputs": [
    {
     "data": {
      "text/plain": [
       "<matplotlib.axes._subplots.AxesSubplot at 0x1a4b18391c8>"
      ]
     },
     "execution_count": 186,
     "metadata": {},
     "output_type": "execute_result"
    },
    {
     "data": {
      "image/png": "[encoded data removed]",
      "text/plain": [
       "<Figure size 1440x720 with 2 Axes>"
      ]
     },
     "metadata": {
      "needs_background": "light"
     },
     "output_type": "display_data"
    }
   ],
   "source": [
    "plt.figure(figsize = (20,10))\n",
    "sns.heatmap(df.corr(), annot = True) #generate heatmap, show data value in each cell "
   ]
  },
  {
   "cell_type": "markdown",
   "metadata": {},
   "source": [
    "observations: \n",
    "- max_temp and temp_9am have high correlation \n",
    "- min_temp and temp_9am have high correlation\n",
    "- pressure_9am ad pressure_3pm have high positive correlation \n",
    "- rainfall seems to have the highes positive correlation with humidity_3pm (.29), \n",
    "followed by rainfall and then humidity_9am  "
   ]
  },
  {
   "cell_type": "code",
   "execution_count": 167,
   "metadata": {},
   "outputs": [],
   "source": [
    "# end data analysis and visualization "
   ]
  },
  {
   "cell_type": "code",
   "execution_count": 168,
   "metadata": {},
   "outputs": [],
   "source": [
    "train, validate, test = \\\n",
    "              np.split(df.sample(frac=1, random_state=42), \n",
    "                       [int(.6*len(df)), int(.8*len(df))])"
   ]
  },
  {
   "cell_type": "code",
   "execution_count": 169,
   "metadata": {},
   "outputs": [],
   "source": [
    "input_cols = [\n",
    "                'min_temp', \n",
    "                'max_temp', \n",
    "                'wind_speed9am', \n",
    "                'wind_speed3pm', \n",
    "                'humidity9am', \n",
    "                'humidity3pm', \n",
    "                'pressure9am', \n",
    "                'pressure3pm', \n",
    "                'temp9am', \n",
    "                'temp3pm',\n",
    "                'rainfall']"
   ]
  },
  {
   "cell_type": "code",
   "execution_count": 170,
   "metadata": {},
   "outputs": [],
   "source": [
    "x_val = validate[input_cols]\n",
    "y_val = validate[['rain_tomorrow']]"
   ]
  },
  {
   "cell_type": "code",
   "execution_count": 171,
   "metadata": {},
   "outputs": [],
   "source": [
    "x_train = train[input_cols]\n",
    "y_train = train[['rain_tomorrow']]"
   ]
  },
  {
   "cell_type": "code",
   "execution_count": 172,
   "metadata": {},
   "outputs": [],
   "source": [
    "x_test = test[input_cols]\n",
    "y_test = test[['rain_tomorrow']]"
   ]
  },
  {
   "cell_type": "code",
   "execution_count": 173,
   "metadata": {},
   "outputs": [],
   "source": [
    "nm = NearMiss()\n",
    "x_train_resampled, y_train_resampled = nm.fit_resample(x_train, y_train)"
   ]
  },
  {
   "cell_type": "code",
   "execution_count": 174,
   "metadata": {},
   "outputs": [],
   "source": [
    "# y_train = train[['rain_tomorrow']]"
   ]
  },
  {
   "cell_type": "code",
   "execution_count": 175,
   "metadata": {},
   "outputs": [
    {
     "name": "stderr",
     "output_type": "stream",
     "text": [
      "c:\\ProgramData\\Anaconda3\\lib\\site-packages\\ipykernel_launcher.py:3: SettingWithCopyWarning: \n",
      "A value is trying to be set on a copy of a slice from a DataFrame.\n",
      "Try using .loc[row_indexer,col_indexer] = value instead\n",
      "\n",
      "See the caveats in the documentation: https://pandas.pydata.org/pandas-docs/stable/user_guide/indexing.html#returning-a-view-versus-a-copy\n",
      "  This is separate from the ipykernel package so we can avoid doing imports until\n",
      "c:\\ProgramData\\Anaconda3\\lib\\site-packages\\pandas\\core\\frame.py:2969: SettingWithCopyWarning: \n",
      "A value is trying to be set on a copy of a slice from a DataFrame\n",
      "\n",
      "See the caveats in the documentation: https://pandas.pydata.org/pandas-docs/stable/user_guide/indexing.html#returning-a-view-versus-a-copy\n",
      "  self.loc._setitem_with_indexer((slice(None), indexer), value)\n",
      "c:\\ProgramData\\Anaconda3\\lib\\site-packages\\pandas\\core\\frame.py:2935: SettingWithCopyWarning: \n",
      "A value is trying to be set on a copy of a slice from a DataFrame\n",
      "\n",
      "See the caveats in the documentation: https://pandas.pydata.org/pandas-docs/stable/user_guide/indexing.html#returning-a-view-versus-a-copy\n",
      "  self._setitem_array(key, value)\n",
      "c:\\ProgramData\\Anaconda3\\lib\\site-packages\\ipykernel_launcher.py:4: SettingWithCopyWarning: \n",
      "A value is trying to be set on a copy of a slice from a DataFrame.\n",
      "Try using .loc[row_indexer,col_indexer] = value instead\n",
      "\n",
      "See the caveats in the documentation: https://pandas.pydata.org/pandas-docs/stable/user_guide/indexing.html#returning-a-view-versus-a-copy\n",
      "  after removing the cwd from sys.path.\n",
      "c:\\ProgramData\\Anaconda3\\lib\\site-packages\\pandas\\core\\frame.py:2969: SettingWithCopyWarning: \n",
      "A value is trying to be set on a copy of a slice from a DataFrame\n",
      "\n",
      "See the caveats in the documentation: https://pandas.pydata.org/pandas-docs/stable/user_guide/indexing.html#returning-a-view-versus-a-copy\n",
      "  self.loc._setitem_with_indexer((slice(None), indexer), value)\n",
      "c:\\ProgramData\\Anaconda3\\lib\\site-packages\\pandas\\core\\frame.py:2935: SettingWithCopyWarning: \n",
      "A value is trying to be set on a copy of a slice from a DataFrame\n",
      "\n",
      "See the caveats in the documentation: https://pandas.pydata.org/pandas-docs/stable/user_guide/indexing.html#returning-a-view-versus-a-copy\n",
      "  self._setitem_array(key, value)\n"
     ]
    }
   ],
   "source": [
    "\n",
    "scaler = MinMaxScaler().fit(df[input_cols])\n",
    "\n",
    "x_val[input_cols] = scaler.transform(x_val[input_cols])\n",
    "x_test[input_cols] = scaler.transform(x_test[input_cols])\n",
    "# x_train[input_cols] = scaler.transform(x_train[input_cols])\n",
    "x_train_resampled[input_cols] = scaler.transform(x_train_resampled[input_cols])"
   ]
  },
  {
   "cell_type": "code",
   "execution_count": 176,
   "metadata": {},
   "outputs": [
    {
     "data": {
      "text/html": [
       "<div>\n",
       "<style scoped>\n",
       "    .dataframe tbody tr th:only-of-type {\n",
       "        vertical-align: middle;\n",
       "    }\n",
       "\n",
       "    .dataframe tbody tr th {\n",
       "        vertical-align: top;\n",
       "    }\n",
       "\n",
       "    .dataframe thead th {\n",
       "        text-align: right;\n",
       "    }\n",
       "</style>\n",
       "<table border=\"1\" class=\"dataframe\">\n",
       "  <thead>\n",
       "    <tr style=\"text-align: right;\">\n",
       "      <th></th>\n",
       "      <th>min_temp</th>\n",
       "      <th>max_temp</th>\n",
       "      <th>wind_speed9am</th>\n",
       "      <th>wind_speed3pm</th>\n",
       "      <th>humidity9am</th>\n",
       "      <th>humidity3pm</th>\n",
       "      <th>pressure9am</th>\n",
       "      <th>pressure3pm</th>\n",
       "      <th>temp9am</th>\n",
       "      <th>temp3pm</th>\n",
       "      <th>rainfall</th>\n",
       "    </tr>\n",
       "  </thead>\n",
       "  <tbody>\n",
       "    <tr>\n",
       "      <th>min</th>\n",
       "      <td>0.000000</td>\n",
       "      <td>0.041096</td>\n",
       "      <td>0.000000</td>\n",
       "      <td>0.000000</td>\n",
       "      <td>0.0</td>\n",
       "      <td>0.011364</td>\n",
       "      <td>0.000000</td>\n",
       "      <td>0.000000</td>\n",
       "      <td>0.000000</td>\n",
       "      <td>0.0</td>\n",
       "      <td>0.000000</td>\n",
       "    </tr>\n",
       "    <tr>\n",
       "      <th>max</th>\n",
       "      <td>0.987952</td>\n",
       "      <td>0.972603</td>\n",
       "      <td>0.733333</td>\n",
       "      <td>0.827586</td>\n",
       "      <td>1.0</td>\n",
       "      <td>1.000000</td>\n",
       "      <td>0.941667</td>\n",
       "      <td>0.991304</td>\n",
       "      <td>0.971014</td>\n",
       "      <td>1.0</td>\n",
       "      <td>0.664894</td>\n",
       "    </tr>\n",
       "  </tbody>\n",
       "</table>\n",
       "</div>"
      ],
      "text/plain": [
       "     min_temp  max_temp  wind_speed9am  wind_speed3pm  humidity9am  \\\n",
       "min  0.000000  0.041096       0.000000       0.000000          0.0   \n",
       "max  0.987952  0.972603       0.733333       0.827586          1.0   \n",
       "\n",
       "     humidity3pm  pressure9am  pressure3pm   temp9am  temp3pm  rainfall  \n",
       "min     0.011364     0.000000     0.000000  0.000000      0.0  0.000000  \n",
       "max     1.000000     0.941667     0.991304  0.971014      1.0  0.664894  "
      ]
     },
     "execution_count": 176,
     "metadata": {},
     "output_type": "execute_result"
    }
   ],
   "source": [
    "x_val.describe().loc[['min', 'max']]"
   ]
  },
  {
   "cell_type": "code",
   "execution_count": 177,
   "metadata": {},
   "outputs": [
    {
     "data": {
      "text/plain": [
       "DecisionTreeClassifier(random_state=42)"
      ]
     },
     "execution_count": 177,
     "metadata": {},
     "output_type": "execute_result"
    }
   ],
   "source": [
    "# model = RandomForestClassifier(n_estimators = 100) \n",
    "model = DecisionTreeClassifier(random_state=42)\n",
    "model.fit(x_train_resampled, y_train_resampled)\n",
    "# model.fit(x_train, y_train)"
   ]
  },
  {
   "cell_type": "code",
   "execution_count": 178,
   "metadata": {},
   "outputs": [],
   "source": [
    "y_pred = model.predict(x_test)"
   ]
  },
  {
   "cell_type": "code",
   "execution_count": 179,
   "metadata": {},
   "outputs": [
    {
     "name": "stdout",
     "output_type": "stream",
     "text": [
      "Training Accuracy Score: 100.00\n"
     ]
    }
   ],
   "source": [
    "print('Training Accuracy Score: {:.2f}'.format(model.score(x_train_resampled,y_train_resampled)*100)) #train"
   ]
  },
  {
   "cell_type": "code",
   "execution_count": 180,
   "metadata": {},
   "outputs": [
    {
     "name": "stdout",
     "output_type": "stream",
     "text": [
      "Test Accuracy Score: 36.09\n"
     ]
    }
   ],
   "source": [
    "print('Test Accuracy Score: {:.2f}'.format(model.score(x_test,y_test)*100)) #train"
   ]
  },
  {
   "cell_type": "code",
   "execution_count": 181,
   "metadata": {},
   "outputs": [
    {
     "name": "stdout",
     "output_type": "stream",
     "text": [
      "Validation Accuracy Score: 36.41\n"
     ]
    }
   ],
   "source": [
    "print('Validation Accuracy Score: {:.2f}'.format(model.score(x_val,y_val)*100)) #validation  "
   ]
  },
  {
   "cell_type": "code",
   "execution_count": 182,
   "metadata": {},
   "outputs": [
    {
     "name": "stdout",
     "output_type": "stream",
     "text": [
      "Accuracy Score: 36.09\n"
     ]
    }
   ],
   "source": [
    "print('Accuracy Score: {:.2f}'.format(metrics.accuracy_score(y_test, y_pred)*100))\n",
    "\n",
    "\n",
    "# this score would be .82 if we didn't rebalance bc of the large amount of nos "
   ]
  },
  {
   "cell_type": "code",
   "execution_count": 183,
   "metadata": {},
   "outputs": [
    {
     "name": "stdout",
     "output_type": "stream",
     "text": [
      "F1 Score: 30.15\n"
     ]
    }
   ],
   "source": [
    "print('F1 Score: {:.2f}'.format(metrics.f1_score(y_test, y_pred) * 100))\n"
   ]
  },
  {
   "cell_type": "code",
   "execution_count": 184,
   "metadata": {},
   "outputs": [],
   "source": [
    "#numerical for random forest "
   ]
  }
 ],
 "metadata": {
  "kernelspec": {
   "display_name": "Python 3",
   "language": "python",
   "name": "python3"
  },
  "language_info": {
   "codemirror_mode": {
    "name": "ipython",
    "version": 3
   },
   "file_extension": ".py",
   "mimetype": "text/x-python",
   "name": "python",
   "nbconvert_exporter": "python",
   "pygments_lexer": "ipython3",
   "version": "3.7.6"
  },
  "orig_nbformat": 4
 },
 "nbformat": 4,
 "nbformat_minor": 2
}
