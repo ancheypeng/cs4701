{
 "cells": [
  {
   "cell_type": "code",
   "execution_count": 52,
   "metadata": {},
   "outputs": [],
   "source": [
    "import pandas as pd\n",
    "import numpy as np\n",
    "import matplotlib.pyplot as plt\n",
    "import matplotlib"
   ]
  },
  {
   "cell_type": "code",
   "execution_count": 70,
   "metadata": {},
   "outputs": [],
   "source": [
    "from sklearn.linear_model import LinearRegression\n",
    "from sklearn.linear_model import LogisticRegression"
   ]
  },
  {
   "cell_type": "code",
   "execution_count": 77,
   "metadata": {},
   "outputs": [],
   "source": [
    "df_06 = pd.read_csv('datasets/htx_2006_weather.csv', na_values='Blank').dropna()\n",
    "df_10 = pd.read_csv('datasets/htx_2010_weather.csv', na_values='Blank').dropna()\n",
    "df_11 = pd.read_csv('datasets/htx_2011_weather.csv', na_values='Blank').dropna()\n",
    "df_12 = pd.read_csv('datasets/htx_2012_weather.csv', na_values='Blank').dropna() \n",
    "df_13 = pd.read_csv('datasets/htx_2013_weather.csv', na_values='Blank').dropna()\n",
    "df_14 = pd.read_csv('datasets/htx_2014_weather.csv', na_values='Blank').dropna()\n",
    "df_15 = pd.read_csv('datasets/htx_2015_weather.csv', na_values='Blank').dropna()\n",
    "df_18 = pd.read_csv('datasets/htx_2018_weather.csv', na_values='Blank').dropna()\n",
    "df_19 = pd.read_csv('datasets/htx_2019_weather.csv', na_values='Blank').dropna()\n",
    "df_21 = pd.read_csv('datasets/htx_2021_weather.csv', na_values='Blank').dropna()\n",
    "\n",
    "df = pd.concat([df_06, df_10, df_11, df_12, df_13, df_14, df_15, df_18, df_19, df_21])\n",
    "# df = df_06"
   ]
  },
  {
   "cell_type": "code",
   "execution_count": 78,
   "metadata": {},
   "outputs": [],
   "source": [
    "df.rain_tomorrow = df.rain_tomorrow.map(dict(Yes=1, No=0))"
   ]
  },
  {
   "cell_type": "code",
   "execution_count": 79,
   "metadata": {},
   "outputs": [
    {
     "name": "stdout",
     "output_type": "stream",
     "text": [
      "<class 'pandas.core.frame.DataFrame'>\n",
      "Int64Index: 3617 entries, 0 to 364\n",
      "Data columns (total 16 columns):\n",
      " #   Column         Non-Null Count  Dtype  \n",
      "---  ------         --------------  -----  \n",
      " 0   date           3617 non-null   object \n",
      " 1   min_temp       3617 non-null   float64\n",
      " 2   max_temp       3617 non-null   float64\n",
      " 3   rainfall       3617 non-null   float64\n",
      " 4   wind_speed9am  3617 non-null   float64\n",
      " 5   wind_speed3pm  3617 non-null   float64\n",
      " 6   humidity9am    3617 non-null   float64\n",
      " 7   humidity3pm    3617 non-null   float64\n",
      " 8   pressure9am    3617 non-null   float64\n",
      " 9   pressure3pm    3617 non-null   float64\n",
      " 10  cloud9am       3617 non-null   object \n",
      " 11  cloud3pm       3617 non-null   object \n",
      " 12  temp9am        3617 non-null   float64\n",
      " 13  temp3pm        3617 non-null   float64\n",
      " 14  rain_today     3617 non-null   object \n",
      " 15  rain_tomorrow  3617 non-null   int64  \n",
      "dtypes: float64(11), int64(1), object(4)\n",
      "memory usage: 480.4+ KB\n"
     ]
    }
   ],
   "source": [
    "df.info()"
   ]
  },
  {
   "cell_type": "code",
   "execution_count": 80,
   "metadata": {},
   "outputs": [],
   "source": [
    "rainfall = df['rainfall'].to_numpy()\n"
   ]
  },
  {
   "cell_type": "code",
   "execution_count": 81,
   "metadata": {},
   "outputs": [
    {
     "data": {
      "image/png": "[encoded data removed]",
      "text/plain": [
       "<Figure size 432x288 with 1 Axes>"
      ]
     },
     "metadata": {
      "needs_background": "light"
     },
     "output_type": "display_data"
    }
   ],
   "source": [
    "plt.hist(rainfall, bins=20)\n",
    "\n",
    "plt.xlabel(\"Number of days\")\n",
    "plt.ylabel(\"Rainfall (in)\")\n",
    "plt.title(\"Rainfall\")\n",
    "\n",
    "plt.show()"
   ]
  },
  {
   "cell_type": "code",
   "execution_count": 82,
   "metadata": {},
   "outputs": [
    {
     "data": {
      "image/png": "[encoded data removed]",
      "text/plain": [
       "<Figure size 432x288 with 1 Axes>"
      ]
     },
     "metadata": {
      "needs_background": "light"
     },
     "output_type": "display_data"
    }
   ],
   "source": [
    "non_zero_rainfall = rainfall[rainfall != 0]\n",
    "plt.hist(non_zero_rainfall, bins=20)\n",
    "\n",
    "plt.xlabel(\"Number of days\")\n",
    "plt.ylabel(\"Rainfall (in)\")\n",
    "plt.title(\"Non-Zero Rainfall\")\n",
    "\n",
    "plt.show()\n",
    "\n",
    "plt.show() "
   ]
  },
  {
   "cell_type": "code",
   "execution_count": 83,
   "metadata": {},
   "outputs": [],
   "source": [
    "train, validate, test = \\\n",
    "              np.split(df.sample(frac=1, random_state=42), \n",
    "                       [int(.6*len(df)), int(.8*len(df))])"
   ]
  },
  {
   "cell_type": "code",
   "execution_count": 84,
   "metadata": {},
   "outputs": [
    {
     "data": {
      "text/html": [
       "<div>\n",
       "<style scoped>\n",
       "    .dataframe tbody tr th:only-of-type {\n",
       "        vertical-align: middle;\n",
       "    }\n",
       "\n",
       "    .dataframe tbody tr th {\n",
       "        vertical-align: top;\n",
       "    }\n",
       "\n",
       "    .dataframe thead th {\n",
       "        text-align: right;\n",
       "    }\n",
       "</style>\n",
       "<table border=\"1\" class=\"dataframe\">\n",
       "  <thead>\n",
       "    <tr style=\"text-align: right;\">\n",
       "      <th></th>\n",
       "      <th>date</th>\n",
       "      <th>min_temp</th>\n",
       "      <th>max_temp</th>\n",
       "      <th>rainfall</th>\n",
       "      <th>wind_speed9am</th>\n",
       "      <th>wind_speed3pm</th>\n",
       "      <th>humidity9am</th>\n",
       "      <th>humidity3pm</th>\n",
       "      <th>pressure9am</th>\n",
       "      <th>pressure3pm</th>\n",
       "      <th>cloud9am</th>\n",
       "      <th>cloud3pm</th>\n",
       "      <th>temp9am</th>\n",
       "      <th>temp3pm</th>\n",
       "      <th>rain_today</th>\n",
       "      <th>rain_tomorrow</th>\n",
       "    </tr>\n",
       "  </thead>\n",
       "  <tbody>\n",
       "    <tr>\n",
       "      <th>319</th>\n",
       "      <td>2021-11-16</td>\n",
       "      <td>64.0</td>\n",
       "      <td>83.0</td>\n",
       "      <td>0.0</td>\n",
       "      <td>10.0</td>\n",
       "      <td>12.0</td>\n",
       "      <td>71.0</td>\n",
       "      <td>47.0</td>\n",
       "      <td>30.06</td>\n",
       "      <td>29.97</td>\n",
       "      <td>Fair</td>\n",
       "      <td>Partly Cloudy</td>\n",
       "      <td>74.0</td>\n",
       "      <td>83.0</td>\n",
       "      <td>No</td>\n",
       "      <td>0</td>\n",
       "    </tr>\n",
       "    <tr>\n",
       "      <th>232</th>\n",
       "      <td>2015-08-21</td>\n",
       "      <td>74.0</td>\n",
       "      <td>88.0</td>\n",
       "      <td>1.6</td>\n",
       "      <td>5.0</td>\n",
       "      <td>0.0</td>\n",
       "      <td>93.0</td>\n",
       "      <td>55.0</td>\n",
       "      <td>29.99</td>\n",
       "      <td>29.88</td>\n",
       "      <td>Light Rain</td>\n",
       "      <td>Mostly Cloudy</td>\n",
       "      <td>74.0</td>\n",
       "      <td>88.0</td>\n",
       "      <td>Yes</td>\n",
       "      <td>0</td>\n",
       "    </tr>\n",
       "    <tr>\n",
       "      <th>194</th>\n",
       "      <td>2014-07-14</td>\n",
       "      <td>78.0</td>\n",
       "      <td>92.0</td>\n",
       "      <td>0.0</td>\n",
       "      <td>9.0</td>\n",
       "      <td>15.0</td>\n",
       "      <td>67.0</td>\n",
       "      <td>59.0</td>\n",
       "      <td>29.99</td>\n",
       "      <td>29.92</td>\n",
       "      <td>Partly Cloudy</td>\n",
       "      <td>Mostly Cloudy</td>\n",
       "      <td>85.0</td>\n",
       "      <td>90.0</td>\n",
       "      <td>No</td>\n",
       "      <td>0</td>\n",
       "    </tr>\n",
       "    <tr>\n",
       "      <th>271</th>\n",
       "      <td>2015-09-29</td>\n",
       "      <td>70.0</td>\n",
       "      <td>88.0</td>\n",
       "      <td>0.1</td>\n",
       "      <td>10.0</td>\n",
       "      <td>10.0</td>\n",
       "      <td>76.0</td>\n",
       "      <td>53.0</td>\n",
       "      <td>29.80</td>\n",
       "      <td>29.74</td>\n",
       "      <td>Partly Cloudy</td>\n",
       "      <td>Mostly Cloudy</td>\n",
       "      <td>77.0</td>\n",
       "      <td>88.0</td>\n",
       "      <td>Yes</td>\n",
       "      <td>0</td>\n",
       "    </tr>\n",
       "    <tr>\n",
       "      <th>156</th>\n",
       "      <td>2014-06-06</td>\n",
       "      <td>75.0</td>\n",
       "      <td>89.0</td>\n",
       "      <td>0.0</td>\n",
       "      <td>9.0</td>\n",
       "      <td>10.0</td>\n",
       "      <td>69.0</td>\n",
       "      <td>61.0</td>\n",
       "      <td>29.90</td>\n",
       "      <td>29.89</td>\n",
       "      <td>Partly Cloudy</td>\n",
       "      <td>Partly Cloudy</td>\n",
       "      <td>84.0</td>\n",
       "      <td>87.0</td>\n",
       "      <td>No</td>\n",
       "      <td>0</td>\n",
       "    </tr>\n",
       "    <tr>\n",
       "      <th>...</th>\n",
       "      <td>...</td>\n",
       "      <td>...</td>\n",
       "      <td>...</td>\n",
       "      <td>...</td>\n",
       "      <td>...</td>\n",
       "      <td>...</td>\n",
       "      <td>...</td>\n",
       "      <td>...</td>\n",
       "      <td>...</td>\n",
       "      <td>...</td>\n",
       "      <td>...</td>\n",
       "      <td>...</td>\n",
       "      <td>...</td>\n",
       "      <td>...</td>\n",
       "      <td>...</td>\n",
       "      <td>...</td>\n",
       "    </tr>\n",
       "    <tr>\n",
       "      <th>55</th>\n",
       "      <td>2012-02-25</td>\n",
       "      <td>46.0</td>\n",
       "      <td>56.0</td>\n",
       "      <td>0.0</td>\n",
       "      <td>5.0</td>\n",
       "      <td>7.0</td>\n",
       "      <td>40.0</td>\n",
       "      <td>37.0</td>\n",
       "      <td>30.36</td>\n",
       "      <td>30.29</td>\n",
       "      <td>Cloudy</td>\n",
       "      <td>Cloudy</td>\n",
       "      <td>52.0</td>\n",
       "      <td>55.0</td>\n",
       "      <td>No</td>\n",
       "      <td>0</td>\n",
       "    </tr>\n",
       "    <tr>\n",
       "      <th>219</th>\n",
       "      <td>2012-08-07</td>\n",
       "      <td>78.0</td>\n",
       "      <td>95.0</td>\n",
       "      <td>0.0</td>\n",
       "      <td>5.0</td>\n",
       "      <td>7.0</td>\n",
       "      <td>72.0</td>\n",
       "      <td>47.0</td>\n",
       "      <td>29.94</td>\n",
       "      <td>29.87</td>\n",
       "      <td>Partly Cloudy</td>\n",
       "      <td>Mostly Cloudy</td>\n",
       "      <td>85.0</td>\n",
       "      <td>95.0</td>\n",
       "      <td>No</td>\n",
       "      <td>1</td>\n",
       "    </tr>\n",
       "    <tr>\n",
       "      <th>149</th>\n",
       "      <td>2011-05-30</td>\n",
       "      <td>78.0</td>\n",
       "      <td>91.0</td>\n",
       "      <td>0.0</td>\n",
       "      <td>18.0</td>\n",
       "      <td>17.0</td>\n",
       "      <td>59.0</td>\n",
       "      <td>50.0</td>\n",
       "      <td>29.92</td>\n",
       "      <td>29.90</td>\n",
       "      <td>Partly Cloudy</td>\n",
       "      <td>Partly Cloudy</td>\n",
       "      <td>87.0</td>\n",
       "      <td>90.0</td>\n",
       "      <td>No</td>\n",
       "      <td>0</td>\n",
       "    </tr>\n",
       "    <tr>\n",
       "      <th>254</th>\n",
       "      <td>2021-09-12</td>\n",
       "      <td>75.0</td>\n",
       "      <td>91.0</td>\n",
       "      <td>0.0</td>\n",
       "      <td>9.0</td>\n",
       "      <td>12.0</td>\n",
       "      <td>61.0</td>\n",
       "      <td>43.0</td>\n",
       "      <td>30.03</td>\n",
       "      <td>29.98</td>\n",
       "      <td>Fair</td>\n",
       "      <td>Mostly Cloudy</td>\n",
       "      <td>85.0</td>\n",
       "      <td>89.0</td>\n",
       "      <td>No</td>\n",
       "      <td>1</td>\n",
       "    </tr>\n",
       "    <tr>\n",
       "      <th>284</th>\n",
       "      <td>2019-10-12</td>\n",
       "      <td>55.0</td>\n",
       "      <td>73.0</td>\n",
       "      <td>0.0</td>\n",
       "      <td>14.0</td>\n",
       "      <td>9.0</td>\n",
       "      <td>47.0</td>\n",
       "      <td>35.0</td>\n",
       "      <td>30.15</td>\n",
       "      <td>30.01</td>\n",
       "      <td>Partly Cloudy</td>\n",
       "      <td>Fair</td>\n",
       "      <td>60.0</td>\n",
       "      <td>73.0</td>\n",
       "      <td>No</td>\n",
       "      <td>0</td>\n",
       "    </tr>\n",
       "  </tbody>\n",
       "</table>\n",
       "<p>724 rows × 16 columns</p>\n",
       "</div>"
      ],
      "text/plain": [
       "           date  min_temp  max_temp  rainfall  wind_speed9am  wind_speed3pm  \\\n",
       "319  2021-11-16      64.0      83.0       0.0           10.0           12.0   \n",
       "232  2015-08-21      74.0      88.0       1.6            5.0            0.0   \n",
       "194  2014-07-14      78.0      92.0       0.0            9.0           15.0   \n",
       "271  2015-09-29      70.0      88.0       0.1           10.0           10.0   \n",
       "156  2014-06-06      75.0      89.0       0.0            9.0           10.0   \n",
       "..          ...       ...       ...       ...            ...            ...   \n",
       "55   2012-02-25      46.0      56.0       0.0            5.0            7.0   \n",
       "219  2012-08-07      78.0      95.0       0.0            5.0            7.0   \n",
       "149  2011-05-30      78.0      91.0       0.0           18.0           17.0   \n",
       "254  2021-09-12      75.0      91.0       0.0            9.0           12.0   \n",
       "284  2019-10-12      55.0      73.0       0.0           14.0            9.0   \n",
       "\n",
       "     humidity9am  humidity3pm  pressure9am  pressure3pm       cloud9am  \\\n",
       "319         71.0         47.0        30.06        29.97           Fair   \n",
       "232         93.0         55.0        29.99        29.88     Light Rain   \n",
       "194         67.0         59.0        29.99        29.92  Partly Cloudy   \n",
       "271         76.0         53.0        29.80        29.74  Partly Cloudy   \n",
       "156         69.0         61.0        29.90        29.89  Partly Cloudy   \n",
       "..           ...          ...          ...          ...            ...   \n",
       "55          40.0         37.0        30.36        30.29         Cloudy   \n",
       "219         72.0         47.0        29.94        29.87  Partly Cloudy   \n",
       "149         59.0         50.0        29.92        29.90  Partly Cloudy   \n",
       "254         61.0         43.0        30.03        29.98           Fair   \n",
       "284         47.0         35.0        30.15        30.01  Partly Cloudy   \n",
       "\n",
       "          cloud3pm  temp9am  temp3pm rain_today  rain_tomorrow  \n",
       "319  Partly Cloudy     74.0     83.0         No              0  \n",
       "232  Mostly Cloudy     74.0     88.0        Yes              0  \n",
       "194  Mostly Cloudy     85.0     90.0         No              0  \n",
       "271  Mostly Cloudy     77.0     88.0        Yes              0  \n",
       "156  Partly Cloudy     84.0     87.0         No              0  \n",
       "..             ...      ...      ...        ...            ...  \n",
       "55          Cloudy     52.0     55.0         No              0  \n",
       "219  Mostly Cloudy     85.0     95.0         No              1  \n",
       "149  Partly Cloudy     87.0     90.0         No              0  \n",
       "254  Mostly Cloudy     85.0     89.0         No              1  \n",
       "284           Fair     60.0     73.0         No              0  \n",
       "\n",
       "[724 rows x 16 columns]"
      ]
     },
     "execution_count": 84,
     "metadata": {},
     "output_type": "execute_result"
    }
   ],
   "source": [
    "test"
   ]
  },
  {
   "cell_type": "code",
   "execution_count": 85,
   "metadata": {},
   "outputs": [],
   "source": [
    "x_train = train[['min_temp', \n",
    "                'max_temp', \n",
    "                # 'wind_speed9am', \n",
    "                # 'wind_speed3pm', \n",
    "                'humidity9am', \n",
    "                'humidity3pm', \n",
    "                'pressure9am', \n",
    "                'pressure3pm', \n",
    "                'temp9am', \n",
    "                'temp3pm',\n",
    "                'rainfall'\n",
    "                ]]\n",
    "# x_train = train[['humidity3pm', 'pressure3pm']]\n",
    "\n",
    "y_train = train[['rain_tomorrow']]"
   ]
  },
  {
   "cell_type": "code",
   "execution_count": 86,
   "metadata": {},
   "outputs": [],
   "source": [
    "x_test = test[['min_temp', \n",
    "                'max_temp', \n",
    "                # 'wind_speed9am', \n",
    "                # 'wind_speed3pm', \n",
    "                'humidity9am', \n",
    "                'humidity3pm', \n",
    "                'pressure9am', \n",
    "                'pressure3pm', \n",
    "                'temp9am', \n",
    "                'temp3pm',\n",
    "                'rainfall'\n",
    "                ]]\n",
    "\n",
    "y_test = test[['rain_tomorrow']]"
   ]
  },
  {
   "cell_type": "code",
   "execution_count": 87,
   "metadata": {},
   "outputs": [
    {
     "name": "stderr",
     "output_type": "stream",
     "text": [
      "/Users/ancheypeng/opt/anaconda3/lib/python3.9/site-packages/sklearn/utils/validation.py:993: DataConversionWarning: A column-vector y was passed when a 1d array was expected. Please change the shape of y to (n_samples, ), for example using ravel().\n",
      "  y = column_or_1d(y, warn=True)\n",
      "/Users/ancheypeng/opt/anaconda3/lib/python3.9/site-packages/sklearn/linear_model/_logistic.py:814: ConvergenceWarning: lbfgs failed to converge (status=1):\n",
      "STOP: TOTAL NO. of ITERATIONS REACHED LIMIT.\n",
      "\n",
      "Increase the number of iterations (max_iter) or scale the data as shown in:\n",
      "    https://scikit-learn.org/stable/modules/preprocessing.html\n",
      "Please also refer to the documentation for alternative solver options:\n",
      "    https://scikit-learn.org/stable/modules/linear_model.html#logistic-regression\n",
      "  n_iter_i = _check_optimize_result(\n"
     ]
    },
    {
     "data": {
      "text/plain": [
       "LogisticRegression()"
      ]
     },
     "execution_count": 87,
     "metadata": {},
     "output_type": "execute_result"
    }
   ],
   "source": [
    "model = LogisticRegression()  \n",
    "model.fit(x_train, y_train)"
   ]
  },
  {
   "cell_type": "code",
   "execution_count": 88,
   "metadata": {},
   "outputs": [],
   "source": [
    "# plt.scatter(x_train, y_train,color='g')\n",
    "# plt.plot(x_train, model.predict(x_train),color='k')\n",
    "\n",
    "# plt.show()"
   ]
  },
  {
   "cell_type": "code",
   "execution_count": 89,
   "metadata": {},
   "outputs": [
    {
     "data": {
      "text/plain": [
       "array([0, 0, 0, 0, 0, 0, 0, 0, 0, 0, 0, 0, 0, 1, 0, 0, 0, 0, 0, 0, 0, 0,\n",
       "       0, 0, 0, 0, 0, 0, 0, 0, 0, 0, 0, 0, 0, 0, 0, 0, 0, 0, 0, 0, 0, 0,\n",
       "       0, 0, 0, 0, 0, 0, 0, 0, 0, 0, 0, 0, 0, 0, 0, 0, 0, 0, 0, 0, 0, 0,\n",
       "       0, 0, 0, 0, 0, 0, 1, 0, 0, 0, 0, 0, 0, 0, 0, 0, 0, 0, 0, 0, 0, 0,\n",
       "       0, 0, 0, 0, 0, 0, 0, 0, 0, 0, 0, 0, 0, 0, 0, 0, 0, 0, 0, 0, 0, 0,\n",
       "       0, 0, 0, 0, 0, 0, 0, 0, 0, 0, 0, 0, 0, 0, 0, 0, 0, 0, 0, 0, 0, 0,\n",
       "       0, 0, 0, 0, 0, 0, 0, 0, 0, 0, 0, 0, 0, 0, 0, 0, 0, 0, 0, 0, 0, 0,\n",
       "       0, 0, 0, 0, 0, 0, 0, 0, 0, 0, 0, 0, 0, 0, 0, 0, 0, 0, 0, 0, 0, 0,\n",
       "       0, 0, 0, 0, 0, 0, 0, 0, 0, 0, 0, 0, 0, 0, 0, 0, 0, 0, 0, 0, 0, 0,\n",
       "       0, 0, 0, 0, 0, 0, 0, 0, 0, 0, 0, 0, 0, 0, 0, 0, 0, 0, 0, 0, 0, 0,\n",
       "       0, 0, 0, 0, 0, 0, 0, 0, 0, 0, 0, 0, 0, 0, 0, 0, 0, 0, 0, 0, 0, 0,\n",
       "       0, 0, 0, 0, 0, 0, 0, 0, 0, 0, 0, 0, 0, 0, 0, 0, 0, 0, 0, 0, 0, 0,\n",
       "       0, 0, 0, 0, 0, 0, 0, 0, 0, 0, 0, 0, 0, 0, 0, 0, 0, 0, 0, 0, 0, 0,\n",
       "       0, 0, 0, 0, 0, 0, 0, 0, 0, 0, 0, 1, 0, 0, 0, 0, 0, 0, 0, 0, 0, 0,\n",
       "       0, 0, 0, 0, 0, 0, 0, 0, 0, 0, 0, 0, 0, 0, 0, 0, 0, 0, 0, 0, 0, 0,\n",
       "       0, 0, 0, 0, 0, 0, 0, 0, 0, 0, 0, 0, 0, 0, 0, 0, 0, 0, 0, 0, 0, 0,\n",
       "       0, 0, 0, 0, 0, 0, 0, 0, 0, 0, 0, 0, 0, 0, 0, 0, 0, 0, 0, 0, 0, 0,\n",
       "       0, 1, 0, 0, 0, 0, 0, 0, 0, 0, 0, 0, 0, 0, 0, 0, 0, 0, 0, 0, 0, 0,\n",
       "       0, 0, 0, 0, 0, 0, 0, 0, 0, 0, 0, 0, 0, 0, 0, 1, 0, 0, 0, 0, 0, 0,\n",
       "       0, 0, 0, 0, 0, 0, 0, 0, 0, 0, 0, 0, 0, 0, 0, 0, 0, 0, 0, 0, 0, 0,\n",
       "       0, 0, 0, 0, 0, 0, 0, 0, 0, 0, 0, 0, 0, 0, 0, 0, 0, 0, 0, 0, 0, 0,\n",
       "       0, 0, 0, 0, 0, 0, 1, 0, 0, 0, 0, 0, 0, 0, 0, 0, 0, 0, 0, 0, 0, 0,\n",
       "       0, 0, 0, 0, 0, 0, 0, 0, 0, 0, 0, 0, 0, 0, 0, 0, 0, 0, 0, 1, 0, 0,\n",
       "       0, 0, 0, 0, 0, 0, 0, 0, 0, 0, 0, 0, 0, 0, 0, 0, 0, 0, 0, 0, 0, 0,\n",
       "       0, 0, 0, 0, 0, 0, 0, 0, 0, 0, 0, 0, 0, 0, 0, 0, 0, 0, 0, 0, 0, 0,\n",
       "       0, 0, 0, 0, 0, 0, 0, 0, 0, 0, 0, 0, 0, 0, 0, 0, 0, 0, 0, 0, 0, 1,\n",
       "       0, 0, 0, 0, 0, 0, 0, 0, 0, 0, 0, 1, 0, 0, 0, 0, 0, 0, 0, 0, 0, 0,\n",
       "       0, 0, 0, 0, 0, 0, 0, 0, 0, 0, 0, 0, 0, 0, 0, 0, 0, 0, 0, 0, 0, 0,\n",
       "       0, 0, 0, 0, 0, 0, 0, 0, 0, 0, 0, 0, 0, 0, 0, 0, 0, 0, 0, 0, 0, 0,\n",
       "       0, 0, 0, 0, 0, 0, 0, 0, 0, 0, 0, 0, 0, 0, 0, 0, 0, 0, 0, 0, 0, 0,\n",
       "       0, 0, 0, 0, 0, 0, 0, 0, 0, 0, 0, 0, 0, 0, 0, 0, 0, 0, 0, 0, 0, 0,\n",
       "       0, 0, 0, 0, 0, 0, 0, 0, 0, 0, 0, 0, 0, 0, 0, 0, 0, 0, 0, 0, 0, 0,\n",
       "       0, 0, 0, 0, 0, 0, 0, 0, 0, 0, 0, 0, 0, 0, 0, 0, 0, 0, 0, 0])"
      ]
     },
     "execution_count": 89,
     "metadata": {},
     "output_type": "execute_result"
    }
   ],
   "source": [
    "model.predict(x_test)"
   ]
  },
  {
   "cell_type": "code",
   "execution_count": 90,
   "metadata": {},
   "outputs": [
    {
     "name": "stdout",
     "output_type": "stream",
     "text": [
      "R squared: 81.57\n"
     ]
    }
   ],
   "source": [
    "print('R squared: {:.2f}'.format(model.score(x_train,y_train)*100))"
   ]
  },
  {
   "cell_type": "code",
   "execution_count": 91,
   "metadata": {},
   "outputs": [
    {
     "name": "stdout",
     "output_type": "stream",
     "text": [
      "R squared: 82.32\n"
     ]
    }
   ],
   "source": [
    "print('R squared: {:.2f}'.format(model.score(x_test,y_test)*100))"
   ]
  },
  {
   "cell_type": "code",
   "execution_count": null,
   "metadata": {},
   "outputs": [],
   "source": []
  },
  {
   "cell_type": "code",
   "execution_count": null,
   "metadata": {},
   "outputs": [],
   "source": []
  }
 ],
 "metadata": {
  "kernelspec": {
   "display_name": "Python 3",
   "language": "python",
   "name": "python3"
  },
  "language_info": {
   "codemirror_mode": {
    "name": "ipython",
    "version": 3
   },
   "file_extension": ".py",
   "mimetype": "text/x-python",
   "name": "python",
   "nbconvert_exporter": "python",
   "pygments_lexer": "ipython3",
   "version": "3.9.12"
  },
  "orig_nbformat": 4
 },
 "nbformat": 4,
 "nbformat_minor": 2
}
